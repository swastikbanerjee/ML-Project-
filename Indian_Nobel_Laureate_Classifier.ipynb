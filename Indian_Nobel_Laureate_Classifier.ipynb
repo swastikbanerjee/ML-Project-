{
  "nbformat": 4,
  "nbformat_minor": 0,
  "metadata": {
    "colab": {
      "provenance": [],
      "include_colab_link": true
    },
    "kernelspec": {
      "name": "python3",
      "display_name": "Python 3"
    },
    "language_info": {
      "name": "python"
    }
  },
  "cells": [
    {
      "cell_type": "markdown",
      "metadata": {
        "id": "view-in-github",
        "colab_type": "text"
      },
      "source": [
        "<a href=\"https://colab.research.google.com/github/swastikbanerjee/ML-Project-/blob/main/Indian_Nobel_Laureate_Classifier.ipynb\" target=\"_parent\"><img src=\"https://colab.research.google.com/assets/colab-badge.svg\" alt=\"Open In Colab\"/></a>"
      ]
    },
    {
      "cell_type": "code",
      "source": [
        "from google.colab import drive\n",
        "drive.mount('/content/drive')"
      ],
      "metadata": {
        "id": "JVXyvClfroNG",
        "colab": {
          "base_uri": "https://localhost:8080/"
        },
        "outputId": "fea38a62-b7f3-4bf3-dad3-390f20fc526f"
      },
      "execution_count": null,
      "outputs": [
        {
          "output_type": "stream",
          "name": "stdout",
          "text": [
            "Drive already mounted at /content/drive; to attempt to forcibly remount, call drive.mount(\"/content/drive\", force_remount=True).\n"
          ]
        }
      ]
    },
    {
      "cell_type": "markdown",
      "source": [
        "Data Cleaning : Picking valid images, cropping them and storing them in a separate folder"
      ],
      "metadata": {
        "id": "u_Q5WcmNmenS"
      }
    },
    {
      "cell_type": "code",
      "source": [
        "import os\n",
        "import cv2\n",
        "\n",
        "# Define the path to the data and the path to store cropped images\n",
        "path_to_data = \"/content/drive/MyDrive/dataset\"\n",
        "path_to_cr_data = \"/content/drive/MyDrive/cropped_dataset\"\n",
        "\n",
        "# Load the Haar Cascade classifiers for face, nose, and mouth detection\n",
        "face_cascade = cv2.CascadeClassifier(cv2.data.haarcascades + 'haarcascade_frontalface_default.xml')\n",
        "nose_cascade = cv2.CascadeClassifier('/content/drive/MyDrive/opencv_haar cascades/haarcascade_mcs_nose.xml')\n",
        "mouth_cascade = cv2.CascadeClassifier('/content/drive/MyDrive/opencv_haar cascades/haarcascade_mcs_mouth.xml')\n",
        "\n",
        "def get_cropped_image_with_features(image_path):\n",
        "    img = cv2.imread(image_path)\n",
        "    gray = cv2.cvtColor(img, cv2.COLOR_BGR2GRAY)\n",
        "\n",
        "    # Detect faces in the image\n",
        "    faces = face_cascade.detectMultiScale(gray, scaleFactor=1.3, minNeighbors=5, minSize=(30, 30))\n",
        "\n",
        "    for (x, y, w, h) in faces:\n",
        "        roi_gray = gray[y:y+h, x:x+w]\n",
        "        roi_color = img[y:y+h, x:x+w]\n",
        "\n",
        "        # Detect nose and mouth in the face region\n",
        "        noses = nose_cascade.detectMultiScale(roi_gray)\n",
        "        mouths = mouth_cascade.detectMultiScale(roi_gray)\n",
        "\n",
        "        # Check if at least one nose and one mouth are detected\n",
        "        if len(noses) >= 1 and len(mouths) >= 1:\n",
        "            return roi_color\n",
        "\n",
        "    return None\n",
        "\n",
        "img_dirs = []\n",
        "for entry in os.scandir(path_to_data):\n",
        "    if entry.is_dir():\n",
        "        img_dirs.append(entry.path)\n",
        "\n",
        "for img_dir in img_dirs:\n",
        "    celebrity_name = img_dir.split('/')[-1]\n",
        "    print(celebrity_name)\n",
        "\n",
        "    for entry in os.scandir(img_dir):\n",
        "        print(entry.path)\n",
        "        cropped_image = get_cropped_image_with_features(entry.path)\n",
        "\n",
        "        cropped_folder = os.path.join(path_to_cr_data, celebrity_name)\n",
        "        if cropped_image is not None:\n",
        "            cropped_folder = os.path.join(path_to_cr_data, celebrity_name)\n",
        "            if not os.path.exists(cropped_folder):\n",
        "                os.makedirs(cropped_folder)\n",
        "                print(\"Generating cropped images in folder:\", cropped_folder)\n",
        "\n",
        "            # Save the cropped image\n",
        "            cv2.imwrite(os.path.join(cropped_folder, entry.name), cropped_image)\n"
      ],
      "metadata": {
        "id": "1ZvTBRxz_7bu"
      },
      "execution_count": null,
      "outputs": []
    },
    {
      "cell_type": "markdown",
      "source": [
        "Defining the Wavelet Transform Function for Feature Engineering"
      ],
      "metadata": {
        "id": "WMn6HIyLmy1R"
      }
    },
    {
      "cell_type": "code",
      "source": [
        "import numpy as np\n",
        "import pywt\n",
        "import cv2\n",
        "\n",
        "def w2d(img, mode='haar', level=1):\n",
        "    imArray = img\n",
        "    #Datatype conversions\n",
        "    #convert to grayscale\n",
        "    imArray = cv2.cvtColor( imArray,cv2.COLOR_RGB2GRAY )\n",
        "    #convert to float\n",
        "    imArray =  np.float32(imArray)\n",
        "    imArray /= 255;\n",
        "    # compute coefficients\n",
        "    coeffs=pywt.wavedec2(imArray, mode, level=level)\n",
        "\n",
        "    #Process Coefficients\n",
        "    coeffs_H=list(coeffs)\n",
        "    coeffs_H[0] *= 0;\n",
        "\n",
        "    # reconstruction\n",
        "    imArray_H=pywt.waverec2(coeffs_H, mode);\n",
        "    imArray_H *= 255;\n",
        "    imArray_H =  np.uint8(imArray_H)\n",
        "\n",
        "    return imArray_H"
      ],
      "metadata": {
        "id": "QafBKGHtNvwt"
      },
      "execution_count": null,
      "outputs": []
    },
    {
      "cell_type": "markdown",
      "source": [
        "Displaying a typical Wavelet Transformed Image"
      ],
      "metadata": {
        "id": "78EtVmuEnC1k"
      }
    },
    {
      "cell_type": "code",
      "source": [
        "import matplotlib.pyplot as plt\n",
        "\n",
        "img = cv2.imread('/content/drive/MyDrive/clean_dataset/abhijit banerjee_cropped/11nobel1.jpg')\n",
        "if img is not None:\n",
        "    im_har = w2d(img, 'db1', 5)\n",
        "    plt.imshow(im_har, cmap='gray')\n",
        "else:\n",
        "    print(\"Error loading image.\")"
      ],
      "metadata": {
        "colab": {
          "base_uri": "https://localhost:8080/",
          "height": 433
        },
        "id": "1rnZxJEnN9wF",
        "outputId": "c9e401ba-3d21-4e19-d319-ba8eae6d612c"
      },
      "execution_count": null,
      "outputs": [
        {
          "output_type": "display_data",
          "data": {
            "text/plain": [
              "<Figure size 640x480 with 1 Axes>"
            ],
            "image/png": "[encoded data removed]"
          },
          "metadata": {}
        }
      ]
    },
    {
      "cell_type": "markdown",
      "source": [
        "List of clean image folders"
      ],
      "metadata": {
        "id": "gePVLGd-n2G5"
      }
    },
    {
      "cell_type": "code",
      "source": [
        "clean_image_dirs = [\n",
        "    '/content/drive/MyDrive/clean_dataset/abhijit banerjee_cropped',\n",
        "    '/content/drive/MyDrive/clean_dataset/amartya sen_cropped',\n",
        "    '/content/drive/MyDrive/clean_dataset/cv raman_cropped',\n",
        "    '/content/drive/MyDrive/clean_dataset/har gobind khorana_cropped',\n",
        "    '/content/drive/MyDrive/clean_dataset/kailash satyarthi_cropped',\n",
        "    '/content/drive/MyDrive/clean_dataset/mother teresa_cropped',\n",
        "    '/content/drive/MyDrive/clean_dataset/rabindranath tagore_cropped',\n",
        "    '/content/drive/MyDrive/clean_dataset/subrahmanyan chandrasekhar_cropped',\n",
        "    '/content/drive/MyDrive/clean_dataset/venkatraman ramakrishnan_cropped'\n",
        "]"
      ],
      "metadata": {
        "id": "ikJHO0wIZCIC"
      },
      "execution_count": null,
      "outputs": []
    },
    {
      "cell_type": "markdown",
      "source": [
        "Organizing file paths for all valid images"
      ],
      "metadata": {
        "id": "Px1SHNUUn_N3"
      }
    },
    {
      "cell_type": "code",
      "source": [
        "import os\n",
        "celebrity_file_names_dict = {}\n",
        "for img_dir in clean_image_dirs:\n",
        "    celebrity_name = img_dir.split('/')[-1]\n",
        "    file_list = []\n",
        "    for entry in os.scandir(img_dir):\n",
        "        file_list.append(entry.path)\n",
        "    celebrity_file_names_dict[celebrity_name] = file_list\n",
        "celebrity_file_names_dict"
      ],
      "metadata": {
        "colab": {
          "base_uri": "https://localhost:8080/"
        },
        "id": "MxNEtrcdOX8D",
        "outputId": "cbd452b0-db84-4562-9c84-f6cd76aa7b9b"
      },
      "execution_count": null,
      "outputs": [
        {
          "output_type": "execute_result",
          "data": {
            "text/plain": [
              "{'abhijit banerjee_cropped': ['/content/drive/MyDrive/clean_dataset/abhijit banerjee_cropped/72471047.jpg',\n",
              "  '/content/drive/MyDrive/clean_dataset/abhijit banerjee_cropped/Abhijit_Banerjee_1636820637723_1636820672768.jpg',\n",
              "  '/content/drive/MyDrive/clean_dataset/abhijit banerjee_cropped/abhijit_20headshot.jpg',\n",
              "  '/content/drive/MyDrive/clean_dataset/abhijit banerjee_cropped/MIT-Good-Economics_4.jpg',\n",
              "  '/content/drive/MyDrive/clean_dataset/abhijit banerjee_cropped/maxresdefault.jpg',\n",
              "  '/content/drive/MyDrive/clean_dataset/abhijit banerjee_cropped/800_443660124c7c65a.jpg',\n",
              "  '/content/drive/MyDrive/clean_dataset/abhijit banerjee_cropped/Abhijit_2520banerjee_2520kolkata_25202.jpg',\n",
              "  '/content/drive/MyDrive/clean_dataset/abhijit banerjee_cropped/Abhijit_Banerjee_FT_Goldman_Sachs_Business_Book_of_the_Year_Award_2011__28cropped_29.jpg',\n",
              "  '/content/drive/MyDrive/clean_dataset/abhijit banerjee_cropped/Abhijit_2520banerjee_2520Kolkata_25201.jpg',\n",
              "  '/content/drive/MyDrive/clean_dataset/abhijit banerjee_cropped/16351556991635155699Abhijit_20Banerjee.jpg',\n",
              "  '/content/drive/MyDrive/clean_dataset/abhijit banerjee_cropped/ss_Abhijit-Banerjee_1c.jpg',\n",
              "  '/content/drive/MyDrive/clean_dataset/abhijit banerjee_cropped/nobel-380.jpg',\n",
              "  '/content/drive/MyDrive/clean_dataset/abhijit banerjee_cropped/Abhijit-Banerjee-1.jpg',\n",
              "  '/content/drive/MyDrive/clean_dataset/abhijit banerjee_cropped/_109235563_mediaitem109235562.jpg',\n",
              "  '/content/drive/MyDrive/clean_dataset/abhijit banerjee_cropped/Abhijitbanerjee.jpg',\n",
              "  '/content/drive/MyDrive/clean_dataset/abhijit banerjee_cropped/NobelP.jpg',\n",
              "  '/content/drive/MyDrive/clean_dataset/abhijit banerjee_cropped/Noticia-1024x570.jpg',\n",
              "  '/content/drive/MyDrive/clean_dataset/abhijit banerjee_cropped/129091-frcrigsksv-1571066349.jpg',\n",
              "  '/content/drive/MyDrive/clean_dataset/abhijit banerjee_cropped/BBVA-Esther-Duflo-Abhijit-Banerjee-14102019.jpg',\n",
              "  '/content/drive/MyDrive/clean_dataset/abhijit banerjee_cropped/AbhijitBanerjee-1.jpg',\n",
              "  '/content/drive/MyDrive/clean_dataset/abhijit banerjee_cropped/cookbook4.jpg',\n",
              "  '/content/drive/MyDrive/clean_dataset/abhijit banerjee_cropped/eeu2i87g_abhijit-banerjee-pti_625x300_22_October_19.jpg',\n",
              "  '/content/drive/MyDrive/clean_dataset/abhijit banerjee_cropped/SX3RM7NAEC6THK76AUULJGVT6I.jpg',\n",
              "  '/content/drive/MyDrive/clean_dataset/abhijit banerjee_cropped/recall_-_abhijit_banerjee_-_photo_rohit_chawla-sixteen_nine.jpg',\n",
              "  '/content/drive/MyDrive/clean_dataset/abhijit banerjee_cropped/Nobel-Laureates-2019-Article-Image.jpg',\n",
              "  '/content/drive/MyDrive/clean_dataset/abhijit banerjee_cropped/76506568.jpg',\n",
              "  '/content/drive/MyDrive/clean_dataset/abhijit banerjee_cropped/original.img.jpg',\n",
              "  '/content/drive/MyDrive/clean_dataset/abhijit banerjee_cropped/abhijit_banerjee_with_cookbook_1_1636717758778_1636717782911.jpg',\n",
              "  '/content/drive/MyDrive/clean_dataset/abhijit banerjee_cropped/Abhijit-Banerjee-640.jpg',\n",
              "  '/content/drive/MyDrive/clean_dataset/abhijit banerjee_cropped/nobel-winner-abhijit-banerjee-had-a-key-role-in-congress-nyay-during-ls-polls.jpg',\n",
              "  '/content/drive/MyDrive/clean_dataset/abhijit banerjee_cropped/Abhijit_20Banerjee_20Profile.jpg',\n",
              "  '/content/drive/MyDrive/clean_dataset/abhijit banerjee_cropped/_109224723_124e488a-7384-4fac-9706-110e636c9779.jpg',\n",
              "  '/content/drive/MyDrive/clean_dataset/abhijit banerjee_cropped/11nobel1.jpg',\n",
              "  '/content/drive/MyDrive/clean_dataset/abhijit banerjee_cropped/why_nobel_laureate_abhijit_banerjee_became_a_target_of_hate_trolls__called_antinational_1571129576.jpg',\n",
              "  '/content/drive/MyDrive/clean_dataset/abhijit banerjee_cropped/nobel-laureate-abhijit-banerjee-some-personal-recollections.jpg',\n",
              "  '/content/drive/MyDrive/clean_dataset/abhijit banerjee_cropped/GettyImages-1175966868-16x9-header-2_ddnunx.jpg',\n",
              "  '/content/drive/MyDrive/clean_dataset/abhijit banerjee_cropped/com_media_.jpg',\n",
              "  '/content/drive/MyDrive/clean_dataset/abhijit banerjee_cropped/abhijit-banerjee-151019m1.jpg',\n",
              "  '/content/drive/MyDrive/clean_dataset/abhijit banerjee_cropped/abhijit-banerjee-nobel-prize-economics-2019_663cdac6-ee9b-11e9-8e48-0fd2949bd28d.jpg',\n",
              "  '/content/drive/MyDrive/clean_dataset/abhijit banerjee_cropped/abhijit_banerjee_books_660_101519024250.jpg',\n",
              "  '/content/drive/MyDrive/clean_dataset/abhijit banerjee_cropped/Abhijit_EPS123.jpg_w=400_dpr=2.jpg',\n",
              "  '/content/drive/MyDrive/clean_dataset/abhijit banerjee_cropped/nobel-laureates-abhijit-banerjee-esther-duflo-on-free-trade-growth-from-their-forthcoming-book-good-economics-for-hard-times.jpg',\n",
              "  '/content/drive/MyDrive/clean_dataset/abhijit banerjee_cropped/abhijit-banerjee-NOBEL.jpg',\n",
              "  '/content/drive/MyDrive/clean_dataset/abhijit banerjee_cropped/abhijit-banerjee-lrg.jpg',\n",
              "  '/content/drive/MyDrive/clean_dataset/abhijit banerjee_cropped/cf282bd2-141d-44d5-9bf4-093891f0f4a6.jpg',\n",
              "  '/content/drive/MyDrive/clean_dataset/abhijit banerjee_cropped/1_BuCEra-_zB5gnlKz5JSsLg.jpg'],\n",
              " 'amartya sen_cropped': ['/content/drive/MyDrive/clean_dataset/amartya sen_cropped/Amartya-Sen-2007.jpg',\n",
              "  '/content/drive/MyDrive/clean_dataset/amartya sen_cropped/1631819841_17booksuman1.jpg',\n",
              "  '/content/drive/MyDrive/clean_dataset/amartya sen_cropped/sen.jpg',\n",
              "  '/content/drive/MyDrive/clean_dataset/amartya sen_cropped/5873d4a6411ab80942b5f3f5771cf236.jpg',\n",
              "  '/content/drive/MyDrive/clean_dataset/amartya sen_cropped/Screen-Shot-2014-11-17-at-14.51.22.jpg',\n",
              "  '/content/drive/MyDrive/clean_dataset/amartya sen_cropped/AmartyaSenQA-400x460.jpg',\n",
              "  '/content/drive/MyDrive/clean_dataset/amartya sen_cropped/203CA21.jpg',\n",
              "  '/content/drive/MyDrive/clean_dataset/amartya sen_cropped/c243565d243b-mountheader.jpg',\n",
              "  '/content/drive/MyDrive/clean_dataset/amartya sen_cropped/big_305082_1389611447.jpg',\n",
              "  '/content/drive/MyDrive/clean_dataset/amartya sen_cropped/231841-amarthya.jpg',\n",
              "  '/content/drive/MyDrive/clean_dataset/amartya sen_cropped/83377005.jpg',\n",
              "  '/content/drive/MyDrive/clean_dataset/amartya sen_cropped/Amartya_20Sen--621x414(1).jpg',\n",
              "  '/content/drive/MyDrive/clean_dataset/amartya sen_cropped/577518-amartyasen.jpg',\n",
              "  '/content/drive/MyDrive/clean_dataset/amartya sen_cropped/Amartya-Sen3.jpg',\n",
              "  '/content/drive/MyDrive/clean_dataset/amartya sen_cropped/p1-10.jpg',\n",
              "  '/content/drive/MyDrive/clean_dataset/amartya sen_cropped/Amartya-Sen-FBA.535597f1.fill-1200x675.jpg',\n",
              "  '/content/drive/MyDrive/clean_dataset/amartya sen_cropped/amartya-sen.jpg',\n",
              "  '/content/drive/MyDrive/clean_dataset/amartya sen_cropped/715cVlyjfvL.jpg',\n",
              "  '/content/drive/MyDrive/clean_dataset/amartya sen_cropped/amartya-sen (1).jpg',\n",
              "  '/content/drive/MyDrive/clean_dataset/amartya sen_cropped/Economist-Amartya-Sen (1).jpg',\n",
              "  '/content/drive/MyDrive/clean_dataset/amartya sen_cropped/03-sen1-450 (1).jpg',\n",
              "  '/content/drive/MyDrive/clean_dataset/amartya sen_cropped/Amartya_Sen_02-683x1024 (1).jpg',\n",
              "  '/content/drive/MyDrive/clean_dataset/amartya sen_cropped/1635940036_whatsapp-image-2021-11-03-at-13-12-14-1 (1).jpg',\n",
              "  '/content/drive/MyDrive/clean_dataset/amartya sen_cropped/032416_Sen_Amartya_126_H_2500-1600x900 (1).jpg',\n",
              "  '/content/drive/MyDrive/clean_dataset/amartya sen_cropped/indian-economist-amartya-sen-the-nobel-economics-laureate-in-1998-speaks-a-conference-at-the (1).jpg',\n",
              "  '/content/drive/MyDrive/clean_dataset/amartya sen_cropped/Amartya-Sen-010 (1).jpg',\n",
              "  '/content/drive/MyDrive/clean_dataset/amartya sen_cropped/sen (1).jpg',\n",
              "  '/content/drive/MyDrive/clean_dataset/amartya sen_cropped/83688-iboarukkfa-1520245867 (1).jpg',\n",
              "  '/content/drive/MyDrive/clean_dataset/amartya sen_cropped/ezgif-sixteen_nine_443 (1).jpg',\n",
              "  '/content/drive/MyDrive/clean_dataset/amartya sen_cropped/1685703876_newamartya (1).jpg',\n",
              "  '/content/drive/MyDrive/clean_dataset/amartya sen_cropped/amartya_sen_20130701_350_630 (1).jpg',\n",
              "  '/content/drive/MyDrive/clean_dataset/amartya sen_cropped/AMARTYA_MAMATA_1200x768 (1).jpg',\n",
              "  '/content/drive/MyDrive/clean_dataset/amartya sen_cropped/Mocomi_TheZone_Culture_AmartyaSen_01 (1).jpg',\n",
              "  '/content/drive/MyDrive/clean_dataset/amartya sen_cropped/0_B6eLEzDd3c5vxodl (1).jpg',\n",
              "  '/content/drive/MyDrive/clean_dataset/amartya sen_cropped/Sen (2).jpg',\n",
              "  '/content/drive/MyDrive/clean_dataset/amartya sen_cropped/maxresdefault (1).jpg',\n",
              "  '/content/drive/MyDrive/clean_dataset/amartya sen_cropped/sen-swns (1).jpg',\n",
              "  '/content/drive/MyDrive/clean_dataset/amartya sen_cropped/idea_sized-amartya-sen-659890052 (1).jpg',\n",
              "  '/content/drive/MyDrive/clean_dataset/amartya sen_cropped/Amartya-Sen-off11387 (1).jpg',\n",
              "  '/content/drive/MyDrive/clean_dataset/amartya sen_cropped/amartya-sen.png',\n",
              "  '/content/drive/MyDrive/clean_dataset/amartya sen_cropped/Amartya-Sen (3).jpg',\n",
              "  '/content/drive/MyDrive/clean_dataset/amartya sen_cropped/Amartya_Sen_2012 (1).jpg',\n",
              "  '/content/drive/MyDrive/clean_dataset/amartya sen_cropped/amartya_file.jpg_w=400_dpr=2 (1).jpg',\n",
              "  '/content/drive/MyDrive/clean_dataset/amartya sen_cropped/sen (3).jpg',\n",
              "  '/content/drive/MyDrive/clean_dataset/amartya sen_cropped/A_portrait_of_the_Nobel_Laureate_and_well_known_Economist_Dr._Amartya_Sen_taken_during_the_release_of_his_book__27The_Argumentative_Indian_-_Writings_on_Indian_History_2C_Culture_and_Iden.jpg',\n",
              "  '/content/drive/MyDrive/clean_dataset/amartya sen_cropped/Amartya-Sen (5).jpg',\n",
              "  '/content/drive/MyDrive/clean_dataset/amartya sen_cropped/maxresdefault (2).jpg',\n",
              "  '/content/drive/MyDrive/clean_dataset/amartya sen_cropped/Amartya-Sen-FBA.535597f1.fill-1200x675 (1).jpg',\n",
              "  '/content/drive/MyDrive/clean_dataset/amartya sen_cropped/1600x960_471074-amartya-sen-calcutta-hc (1).jpg',\n",
              "  '/content/drive/MyDrive/clean_dataset/amartya sen_cropped/dgabSy_y_400x400 (1).jpg',\n",
              "  '/content/drive/MyDrive/clean_dataset/amartya sen_cropped/amartya-sen (7).jpg',\n",
              "  '/content/drive/MyDrive/clean_dataset/amartya sen_cropped/quote-poverty-is-not-just-a-lack-of-money-it-is-not-having-the-capability-to-realize-one-s-amartya-sen-81-18-52 (1).jpg',\n",
              "  '/content/drive/MyDrive/clean_dataset/amartya sen_cropped/amartya-sen (4).jpg',\n",
              "  '/content/drive/MyDrive/clean_dataset/amartya sen_cropped/amartya-sen (6).jpg',\n",
              "  '/content/drive/MyDrive/clean_dataset/amartya sen_cropped/visva-bharati-asks-amartya-sen-to-hand-over-parts-of-leased-land-in-bengals-santiniketan (1).jpg'],\n",
              " 'cv raman_cropped': ['/content/drive/MyDrive/clean_dataset/cv raman_cropped/415yoKvKxuL.jpg',\n",
              "  '/content/drive/MyDrive/clean_dataset/cv raman_cropped/c_v_ramanayk959.jpg',\n",
              "  '/content/drive/MyDrive/clean_dataset/cv raman_cropped/cvraman.jpg',\n",
              "  '/content/drive/MyDrive/clean_dataset/cv raman_cropped/Skillpundit-Indian-Scientists-C_20V_20Raman.jpg',\n",
              "  '/content/drive/MyDrive/clean_dataset/cv raman_cropped/C.V.-Raman-Biography.jpg',\n",
              "  '/content/drive/MyDrive/clean_dataset/cv raman_cropped/1054969-c-v-raman.jpg',\n",
              "  '/content/drive/MyDrive/clean_dataset/cv raman_cropped/raman.jpg',\n",
              "  '/content/drive/MyDrive/clean_dataset/cv raman_cropped/sir-chandrasekhara-venkata-raman-was-responsible-for-showing-that-light-scattered-by-molecules.jpg',\n",
              "  '/content/drive/MyDrive/clean_dataset/cv raman_cropped/C.-V.-Raman-Biography-Birth-Education-Invention-Achievement-01.jpg',\n",
              "  '/content/drive/MyDrive/clean_dataset/cv raman_cropped/1667712640-cv-raman-birth-anniversary.jpg',\n",
              "  '/content/drive/MyDrive/clean_dataset/cv raman_cropped/038d01a00bae2e66b6b1a65d381748df_original.jpg',\n",
              "  '/content/drive/MyDrive/clean_dataset/cv raman_cropped/Biography-of-CV-Raman-in-English.jpg',\n",
              "  '/content/drive/MyDrive/clean_dataset/cv raman_cropped/C_V_Raman__1200x768.jpg',\n",
              "  '/content/drive/MyDrive/clean_dataset/cv raman_cropped/800px-Sir_CV_Raman.jpg',\n",
              "  '/content/drive/MyDrive/clean_dataset/cv raman_cropped/cv-raman-ke-vichar-e1649309520944.jpg',\n",
              "  '/content/drive/MyDrive/clean_dataset/cv raman_cropped/Sir-C.-V.-Raman.jpg',\n",
              "  '/content/drive/MyDrive/clean_dataset/cv raman_cropped/Sir-CV-Raman_-The-Indian-Scientist-we-must-not-forget.jpg',\n",
              "  '/content/drive/MyDrive/clean_dataset/cv raman_cropped/Untitled_design__59_.jpg',\n",
              "  '/content/drive/MyDrive/clean_dataset/cv raman_cropped/IMG_07112021_092419_640_x_420_pixel-450x300-1.jpg',\n",
              "  '/content/drive/MyDrive/clean_dataset/cv raman_cropped/sirCVRaman.jpg',\n",
              "  '/content/drive/MyDrive/clean_dataset/cv raman_cropped/FiEU1-TWAAAfy_E.jpg',\n",
              "  '/content/drive/MyDrive/clean_dataset/cv raman_cropped/c-v-raman.jpg',\n",
              "  '/content/drive/MyDrive/clean_dataset/cv raman_cropped/CV-Raman-Biography-in-Hindi.jpg',\n",
              "  '/content/drive/MyDrive/clean_dataset/cv raman_cropped/CV_Raman_1667797555390_1667797566940_1667797566940.jpg',\n",
              "  '/content/drive/MyDrive/clean_dataset/cv raman_cropped/CV-Raman-.jpg',\n",
              "  '/content/drive/MyDrive/clean_dataset/cv raman_cropped/EmKF0rYVkAMGX4g.jpg',\n",
              "  '/content/drive/MyDrive/clean_dataset/cv raman_cropped/cv-raman-quote-2.jpg',\n",
              "  '/content/drive/MyDrive/clean_dataset/cv raman_cropped/cv-1.jpg',\n",
              "  '/content/drive/MyDrive/clean_dataset/cv raman_cropped/CV-RAMAN-TIMELINE-min-(1).jpg',\n",
              "  '/content/drive/MyDrive/clean_dataset/cv raman_cropped/43-1.jpg',\n",
              "  '/content/drive/MyDrive/clean_dataset/cv raman_cropped/chandrasekhara-venkata-raman-2-320.jpg',\n",
              "  '/content/drive/MyDrive/clean_dataset/cv raman_cropped/IP-104.jpg',\n",
              "  '/content/drive/MyDrive/clean_dataset/cv raman_cropped/cv-raman_61874b7cbdb2b.jpg',\n",
              "  '/content/drive/MyDrive/clean_dataset/cv raman_cropped/Short-Biography-of-CV-Raman-min.jpg',\n",
              "  '/content/drive/MyDrive/clean_dataset/cv raman_cropped/bd414628ac160d86d668eb6e85439bcb.jpg',\n",
              "  '/content/drive/MyDrive/clean_dataset/cv raman_cropped/sircvraman-151121053920-lva1-app6891-thumbnail.jpg',\n",
              "  '/content/drive/MyDrive/clean_dataset/cv raman_cropped/500_500_60717154ba9b2.jpg',\n",
              "  '/content/drive/MyDrive/clean_dataset/cv raman_cropped/Pastel-Pink-Blue-and-Yellow-Illustrative-Salon-Back-to-Business-Landscape-Yard-Signkkkk.jpg',\n",
              "  '/content/drive/MyDrive/clean_dataset/cv raman_cropped/fc07b2cc2f4100ad247ba9fdd786597d.jpg',\n",
              "  '/content/drive/MyDrive/clean_dataset/cv raman_cropped/c.v-raman-biography.jpg',\n",
              "  '/content/drive/MyDrive/clean_dataset/cv raman_cropped/Sir_CV_Raman.jpg',\n",
              "  '/content/drive/MyDrive/clean_dataset/cv raman_cropped/cv-raman-sethu-madhavan.jpg',\n",
              "  '/content/drive/MyDrive/clean_dataset/cv raman_cropped/maxresdefault.jpg',\n",
              "  '/content/drive/MyDrive/clean_dataset/cv raman_cropped/6-CV-Raman-Birth-Anniversary-Quotes-784x441.jpg',\n",
              "  '/content/drive/MyDrive/clean_dataset/cv raman_cropped/C.V.-Raman-1st-Award.jpg',\n",
              "  '/content/drive/MyDrive/clean_dataset/cv raman_cropped/C-V-Raman-85.jpg',\n",
              "  '/content/drive/MyDrive/clean_dataset/cv raman_cropped/mzd623.jpg',\n",
              "  '/content/drive/MyDrive/clean_dataset/cv raman_cropped/com_img_a_.jpg',\n",
              "  '/content/drive/MyDrive/clean_dataset/cv raman_cropped/raman-effect-1582876926.jpg',\n",
              "  '/content/drive/MyDrive/clean_dataset/cv raman_cropped/CV-Raman-1.jpg',\n",
              "  '/content/drive/MyDrive/clean_dataset/cv raman_cropped/remembering-cv-raman-1582877533.jpg',\n",
              "  '/content/drive/MyDrive/clean_dataset/cv raman_cropped/_E0_A4_B8_E0_A5_80_E0_A4_B5_E0_A5_80-_E0_A4_B0_E0_A4_AE_E0_A4_A8-_E0_A4_95_E0_A4_BE-_E0_A4_9C_E0_A5_80_E0_A4_B5_E0_A4_A8-_E0_A4_AA_E0_A4_B0_E0_A4_BF_E0_A4_9A_E0_A4_AF-03.jpg',\n",
              "  '/content/drive/MyDrive/clean_dataset/cv raman_cropped/ed61f7bd-df58-408f-bf2c-629e01962443.jpg',\n",
              "  '/content/drive/MyDrive/clean_dataset/cv raman_cropped/31jeqM4ao1L.jpg',\n",
              "  '/content/drive/MyDrive/clean_dataset/cv raman_cropped/640px-Sir_CV_Raman.jpg'],\n",
              " 'har gobind khorana_cropped': ['/content/drive/MyDrive/clean_dataset/har gobind khorana_cropped/har-gobind-khorana-nobel-prize-winner.jpg',\n",
              "  '/content/drive/MyDrive/clean_dataset/har gobind khorana_cropped/100th-birth-anniversary-of-Dr_-Har-Gobind-Khorana.jpg',\n",
              "  '/content/drive/MyDrive/clean_dataset/har gobind khorana_cropped/Har-Gobind-Khorana-1.jpg',\n",
              "  '/content/drive/MyDrive/clean_dataset/har gobind khorana_cropped/SP-33-DR.-HAR-GOBIND-KHORANA.jpg',\n",
              "  '/content/drive/MyDrive/clean_dataset/har gobind khorana_cropped/Har_Gobind_Khorana_nobel.jpg',\n",
              "  '/content/drive/MyDrive/clean_dataset/har gobind khorana_cropped/DwcU_ixVAAISmw2.jpg',\n",
              "  '/content/drive/MyDrive/clean_dataset/har gobind khorana_cropped/360x203-large-xl_image_16_9.jpg',\n",
              "  '/content/drive/MyDrive/clean_dataset/har gobind khorana_cropped/Har-Gobind-Khorana.jpg',\n",
              "  '/content/drive/MyDrive/clean_dataset/har gobind khorana_cropped/image-20220112165624-20.jpg',\n",
              "  '/content/drive/MyDrive/clean_dataset/har gobind khorana_cropped/Har_Gobind_Khorana.jpg',\n",
              "  '/content/drive/MyDrive/clean_dataset/har gobind khorana_cropped/510KyHINtaL.jpg',\n",
              "  '/content/drive/MyDrive/clean_dataset/har gobind khorana_cropped/maxresdefault.jpg',\n",
              "  '/content/drive/MyDrive/clean_dataset/har gobind khorana_cropped/20111110153730-1.jpg',\n",
              "  '/content/drive/MyDrive/clean_dataset/har gobind khorana_cropped/6e0fe6f4-80fb-11ec-b6cc-0e3362d10988_1643466127012.jpg',\n",
              "  '/content/drive/MyDrive/clean_dataset/har gobind khorana_cropped/10bdaa48276e25f85a93977d8fe2d683.jpg',\n",
              "  '/content/drive/MyDrive/clean_dataset/har gobind khorana_cropped/har-gobind-khorana-could-be-from-early-1960s-2RN442J.jpg',\n",
              "  '/content/drive/MyDrive/clean_dataset/har gobind khorana_cropped/hargobindkhorana-150429005731-conversion-gate02-thumbnail.jpg',\n",
              "  '/content/drive/MyDrive/clean_dataset/har gobind khorana_cropped/FIoqdN9VkAAPTzy.jpg',\n",
              "  '/content/drive/MyDrive/clean_dataset/har gobind khorana_cropped/78690-gpzrtvfjzl-1642563460.jpg',\n",
              "  '/content/drive/MyDrive/clean_dataset/har gobind khorana_cropped/abf5cfd21267ed1e40824dcbf21541bc.jpg',\n",
              "  '/content/drive/MyDrive/clean_dataset/har gobind khorana_cropped/q9h5paa8_har-gobind-khorana_625x300_09_November_20.jpg',\n",
              "  '/content/drive/MyDrive/clean_dataset/har gobind khorana_cropped/khorana1.jpg',\n",
              "  '/content/drive/MyDrive/clean_dataset/har gobind khorana_cropped/hargobind-khorana-2-320.jpg',\n",
              "  '/content/drive/MyDrive/clean_dataset/har gobind khorana_cropped/com_img_document_233687930_original_977590d61f_.jpg',\n",
              "  '/content/drive/MyDrive/clean_dataset/har gobind khorana_cropped/har-gobind-khorana-350_111211044906.jpg',\n",
              "  '/content/drive/MyDrive/clean_dataset/har gobind khorana_cropped/EmIzjTYUcAEDKGF.jpg',\n",
              "  '/content/drive/MyDrive/clean_dataset/har gobind khorana_cropped/Har-Gobind-Khorana-scaled.jpg',\n",
              "  '/content/drive/MyDrive/clean_dataset/har gobind khorana_cropped/_4630b796-d45d-11e9-bf18-74205beb354d.jpg',\n",
              "  '/content/drive/MyDrive/clean_dataset/har gobind khorana_cropped/61d87a08c52a0.jpg',\n",
              "  '/content/drive/MyDrive/clean_dataset/har gobind khorana_cropped/gobind-khorana.jpg',\n",
              "  '/content/drive/MyDrive/clean_dataset/har gobind khorana_cropped/Dr-Har-Gobind-Khorana.jpg',\n",
              "  '/content/drive/MyDrive/clean_dataset/har gobind khorana_cropped/maxresdefault (1).jpg',\n",
              "  '/content/drive/MyDrive/clean_dataset/har gobind khorana_cropped/25-713.jpg',\n",
              "  '/content/drive/MyDrive/clean_dataset/har gobind khorana_cropped/69b6f92c-6a6d-44a9-b861-333880e6be0b__t.jpg',\n",
              "  '/content/drive/MyDrive/clean_dataset/har gobind khorana_cropped/61-1.jpg',\n",
              "  '/content/drive/MyDrive/clean_dataset/har gobind khorana_cropped/0.18318500_1649242662_har-gobind.jpg',\n",
              "  '/content/drive/MyDrive/clean_dataset/har gobind khorana_cropped/1588051944_image32.jpg',\n",
              "  '/content/drive/MyDrive/clean_dataset/har gobind khorana_cropped/091-9.jpg',\n",
              "  '/content/drive/MyDrive/clean_dataset/har gobind khorana_cropped/1552632157.jpg',\n",
              "  '/content/drive/MyDrive/clean_dataset/har gobind khorana_cropped/EN0nPy4WAAEjZbg.jpg',\n",
              "  '/content/drive/MyDrive/clean_dataset/har gobind khorana_cropped/wpid-download.jpg',\n",
              "  '/content/drive/MyDrive/clean_dataset/har gobind khorana_cropped/maxresdefault (2).jpg',\n",
              "  '/content/drive/MyDrive/clean_dataset/har gobind khorana_cropped/Har-Gobind-Khorana (1).jpg',\n",
              "  '/content/drive/MyDrive/clean_dataset/har gobind khorana_cropped/full.jpg',\n",
              "  '/content/drive/MyDrive/clean_dataset/har gobind khorana_cropped/maxresdefault (3).jpg',\n",
              "  '/content/drive/MyDrive/clean_dataset/har gobind khorana_cropped/Har-Gobind-Khorana-In-Hindi.jpg',\n",
              "  '/content/drive/MyDrive/clean_dataset/har gobind khorana_cropped/com_is_image_CENODS_.jpg',\n",
              "  '/content/drive/MyDrive/clean_dataset/har gobind khorana_cropped/20210721_185715.jpg',\n",
              "  '/content/drive/MyDrive/clean_dataset/har gobind khorana_cropped/Dr.-Har-Gobind-Khorana.jpg',\n",
              "  '/content/drive/MyDrive/clean_dataset/har gobind khorana_cropped/hargobind-khorana.jpg',\n",
              "  '/content/drive/MyDrive/clean_dataset/har gobind khorana_cropped/a180109-3.jpg',\n",
              "  '/content/drive/MyDrive/clean_dataset/har gobind khorana_cropped/a180109-1.jpg',\n",
              "  '/content/drive/MyDrive/clean_dataset/har gobind khorana_cropped/image004.jpg',\n",
              "  '/content/drive/MyDrive/clean_dataset/har gobind khorana_cropped/2022_2$largeimg_1475732099.jpg',\n",
              "  '/content/drive/MyDrive/clean_dataset/har gobind khorana_cropped/Dr-Hargovind-Khorana.jpg',\n",
              "  '/content/drive/MyDrive/clean_dataset/har gobind khorana_cropped/pencil_sketch_of_har_gobind_khorana.jpg',\n",
              "  '/content/drive/MyDrive/clean_dataset/har gobind khorana_cropped/Har-Gobind-Khorana-Biography.jpg',\n",
              "  '/content/drive/MyDrive/clean_dataset/har gobind khorana_cropped/Har-Gobind-Khorana-Biography-in-Assamese.jpg',\n",
              "  '/content/drive/MyDrive/clean_dataset/har gobind khorana_cropped/_E0_A4_87_E0_A4_A8_E0_A5_8D_E0_A4_AB_E0_A5_8B-_E0_A4_AE_E0_A4_B0_E0_A4_BE_E0_A4_A0_E0_A5_80-07-100-1024x576.jpg',\n",
              "  '/content/drive/MyDrive/clean_dataset/har gobind khorana_cropped/Har-Gobind-Khorana-001-1600-Wikimedia-commons.jpg',\n",
              "  '/content/drive/MyDrive/clean_dataset/har gobind khorana_cropped/hgk.jpg',\n",
              "  '/content/drive/MyDrive/clean_dataset/har gobind khorana_cropped/Nobel_Laureates_1968_Holley_Khorana_Nirenberg.jpg',\n",
              "  '/content/drive/MyDrive/clean_dataset/har gobind khorana_cropped/2.jpg',\n",
              "  '/content/drive/MyDrive/clean_dataset/har gobind khorana_cropped/Essay-on-Hargobind-Khorana.jpg',\n",
              "  '/content/drive/MyDrive/clean_dataset/har gobind khorana_cropped/khorana-primary.png_width=900_height=506_ext=.png',\n",
              "  '/content/drive/MyDrive/clean_dataset/har gobind khorana_cropped/native-79a1f.jpg',\n",
              "  '/content/drive/MyDrive/clean_dataset/har gobind khorana_cropped/gov_jpg_.jpg',\n",
              "  '/content/drive/MyDrive/clean_dataset/har gobind khorana_cropped/Hargobind_2BKhorana.jpg',\n",
              "  '/content/drive/MyDrive/clean_dataset/har gobind khorana_cropped/Har_Gobind_Khorana.jpg_w=400_dpr=2.jpg'],\n",
              " 'kailash satyarthi_cropped': ['/content/drive/MyDrive/clean_dataset/kailash satyarthi_cropped/1425059928-4459.jpg',\n",
              "  '/content/drive/MyDrive/clean_dataset/kailash satyarthi_cropped/satyarthi-15189-portrait-medium.jpg',\n",
              "  '/content/drive/MyDrive/clean_dataset/kailash satyarthi_cropped/Mr-Satyarthi.jpg',\n",
              "  '/content/drive/MyDrive/clean_dataset/kailash satyarthi_cropped/Kailash-Satyarthi-1024x683.jpg',\n",
              "  '/content/drive/MyDrive/clean_dataset/kailash satyarthi_cropped/Kailash-Satyarthi-Education-1.jpg',\n",
              "  '/content/drive/MyDrive/clean_dataset/kailash satyarthi_cropped/kailash-satyarthi-1412937686-8077810.jpg',\n",
              "  '/content/drive/MyDrive/clean_dataset/kailash satyarthi_cropped/net_.jpg',\n",
              "  '/content/drive/MyDrive/clean_dataset/kailash satyarthi_cropped/Kailash_Satyarthi_March_2015.jpg',\n",
              "  '/content/drive/MyDrive/clean_dataset/kailash satyarthi_cropped/maxresdefault.jpg',\n",
              "  '/content/drive/MyDrive/clean_dataset/kailash satyarthi_cropped/hq720_2.jpg',\n",
              "  '/content/drive/MyDrive/clean_dataset/kailash satyarthi_cropped/2014-nobel-peace-prize-winner-kailash-satyarthi-attends-the-2015-social-good-summit-day-1-at.jpg',\n",
              "  '/content/drive/MyDrive/clean_dataset/kailash satyarthi_cropped/41ersG2aqnL.jpg',\n",
              "  '/content/drive/MyDrive/clean_dataset/kailash satyarthi_cropped/kailsah_satyarthi.jpg',\n",
              "  '/content/drive/MyDrive/clean_dataset/kailash satyarthi_cropped/4496f5b332cb7a88cb011409efd21fe160fe6b6d_254x191.jpg',\n",
              "  '/content/drive/MyDrive/clean_dataset/kailash satyarthi_cropped/Amar-kailash.webp',\n",
              "  '/content/drive/MyDrive/clean_dataset/kailash satyarthi_cropped/aeb656_bb468265038743d09b566df928140b4d_mv2.jpg',\n",
              "  '/content/drive/MyDrive/clean_dataset/kailash satyarthi_cropped/Kailash-Satyarthi-926x1024.jpg',\n",
              "  '/content/drive/MyDrive/clean_dataset/kailash satyarthi_cropped/kailash-satyarthi-about-1.jpg',\n",
              "  '/content/drive/MyDrive/clean_dataset/kailash satyarthi_cropped/1200x1200bb.jpg',\n",
              "  '/content/drive/MyDrive/clean_dataset/kailash satyarthi_cropped/Screenshot_202019-08-22_20at_203.51.27_20PM.png',\n",
              "  '/content/drive/MyDrive/clean_dataset/kailash satyarthi_cropped/C135YiyXcAEvQRP.jpg',\n",
              "  '/content/drive/MyDrive/clean_dataset/kailash satyarthi_cropped/kailash-sathyarthi.jpg',\n",
              "  '/content/drive/MyDrive/clean_dataset/kailash satyarthi_cropped/dc-cover-v1m3pnveth4vdt6rt7rfdmf2s2-20160731010912-1562583391.jpg',\n",
              "  '/content/drive/MyDrive/clean_dataset/kailash satyarthi_cropped/Biography-Of-Kailash-Satyarthi-Nayi-Umang-13angle.jpg',\n",
              "  '/content/drive/MyDrive/clean_dataset/kailash satyarthi_cropped/_E6_B2_99_E6_8F_90_E4_BA_9E_E6_8F_901.webp',\n",
              "  '/content/drive/MyDrive/clean_dataset/kailash satyarthi_cropped/NOBEL-Copy.jpg',\n",
              "  '/content/drive/MyDrive/clean_dataset/kailash satyarthi_cropped/Kailash-Satyarthi-2.jpg',\n",
              "  '/content/drive/MyDrive/clean_dataset/kailash satyarthi_cropped/34666___satyarthi_kailash_peace.jpg',\n",
              "  '/content/drive/MyDrive/clean_dataset/kailash satyarthi_cropped/kailash-satyarthi-660_051915065656.jpg',\n",
              "  '/content/drive/MyDrive/clean_dataset/kailash satyarthi_cropped/Kailash_20Satyarthi_20headshot_202.jpg',\n",
              "  '/content/drive/MyDrive/clean_dataset/kailash satyarthi_cropped/Kailash-Satyarthi (1).jpg',\n",
              "  '/content/drive/MyDrive/clean_dataset/kailash satyarthi_cropped/51ob3VJFzEL.jpg',\n",
              "  '/content/drive/MyDrive/clean_dataset/kailash satyarthi_cropped/ac17-movies-kailash-satyarthi.jpg',\n",
              "  '/content/drive/MyDrive/clean_dataset/kailash satyarthi_cropped/04-1446647818-kailash-satyarthi.jpg',\n",
              "  '/content/drive/MyDrive/clean_dataset/kailash satyarthi_cropped/unnamed1.jpg',\n",
              "  '/content/drive/MyDrive/clean_dataset/kailash satyarthi_cropped/Kailash-Satyarthi (2).jpg',\n",
              "  '/content/drive/MyDrive/clean_dataset/kailash satyarthi_cropped/Kailash_Satyarthi.jpg',\n",
              "  '/content/drive/MyDrive/clean_dataset/kailash satyarthi_cropped/10-lines-on-Kailash-Satyarthi.jpg',\n",
              "  '/content/drive/MyDrive/clean_dataset/kailash satyarthi_cropped/DSC_7172.jpg',\n",
              "  '/content/drive/MyDrive/clean_dataset/kailash satyarthi_cropped/kailash_satyarthi_english_f.jpg',\n",
              "  '/content/drive/MyDrive/clean_dataset/kailash satyarthi_cropped/kailash-satyarthi-9752.jpg',\n",
              "  '/content/drive/MyDrive/clean_dataset/kailash satyarthi_cropped/Cover-Image.jpg',\n",
              "  '/content/drive/MyDrive/clean_dataset/kailash satyarthi_cropped/1503475879_fVGVNZ_kailash-satyarthi_RS.jpg',\n",
              "  '/content/drive/MyDrive/clean_dataset/kailash satyarthi_cropped/kailash-satyarthi-pb-bengali-original-imafhdteqwafc4rj.jpg',\n",
              "  '/content/drive/MyDrive/clean_dataset/kailash satyarthi_cropped/Kailash-Satyarthi (3).jpg',\n",
              "  '/content/drive/MyDrive/clean_dataset/kailash satyarthi_cropped/Kailash-Satyarthi-1.jpg',\n",
              "  '/content/drive/MyDrive/clean_dataset/kailash satyarthi_cropped/kailash_2Bsatyarthi.jpg',\n",
              "  '/content/drive/MyDrive/clean_dataset/kailash satyarthi_cropped/kailash-satyarthi (4).jpg',\n",
              "  '/content/drive/MyDrive/clean_dataset/kailash satyarthi_cropped/kailash_satyarthi_reuters.jpg',\n",
              "  '/content/drive/MyDrive/clean_dataset/kailash satyarthi_cropped/kailash-satyarthi-5437ad9fd6dec_exlst.jpg_w=480_dpr=2.jpg',\n",
              "  '/content/drive/MyDrive/clean_dataset/kailash satyarthi_cropped/kailash-satyarti-web.jpg',\n",
              "  '/content/drive/MyDrive/clean_dataset/kailash satyarthi_cropped/Kailash_Satyarthi_2500.jpg',\n",
              "  '/content/drive/MyDrive/clean_dataset/kailash satyarthi_cropped/KS.jpg',\n",
              "  '/content/drive/MyDrive/clean_dataset/kailash satyarthi_cropped/kailash-satyarthi.jpg',\n",
              "  '/content/drive/MyDrive/clean_dataset/kailash satyarthi_cropped/79812855.jpg',\n",
              "  '/content/drive/MyDrive/clean_dataset/kailash satyarthi_cropped/NOBEL_ART_G5T9T_DE_2271879f-e1449313934101.jpg',\n",
              "  '/content/drive/MyDrive/clean_dataset/kailash satyarthi_cropped/1089003496_0_0_2049_1537_1920x0_80_0_0_77d7d6f37265bc485f90aafc87744871.jpg',\n",
              "  '/content/drive/MyDrive/clean_dataset/kailash satyarthi_cropped/Kailash-Satyarthi-2014 (1).jpg',\n",
              "  '/content/drive/MyDrive/clean_dataset/kailash satyarthi_cropped/TgoL2CUC_400x400 (1).jpg',\n",
              "  '/content/drive/MyDrive/clean_dataset/kailash satyarthi_cropped/Untitled-design-14-1 (1).jpg',\n",
              "  '/content/drive/MyDrive/clean_dataset/kailash satyarthi_cropped/thequint_2F2015-10_2Fc2943b74-1aae-477e-8bd8-95d0a7d10c21_2FKailash (1).jpg',\n",
              "  '/content/drive/MyDrive/clean_dataset/kailash satyarthi_cropped/Kailash-Satyarthi (9).jpg',\n",
              "  '/content/drive/MyDrive/clean_dataset/kailash satyarthi_cropped/Kailash-Satyarthi-on-rss (1).jpg',\n",
              "  '/content/drive/MyDrive/clean_dataset/kailash satyarthi_cropped/selectedkailashsatyarthi-151014184642-lva1-app6892-thumbnail (1).jpg',\n",
              "  '/content/drive/MyDrive/clean_dataset/kailash satyarthi_cropped/u4ft8vlk_kailash-satyarthi-reuters_625x300_29_September_21 (1).jpg',\n",
              "  '/content/drive/MyDrive/clean_dataset/kailash satyarthi_cropped/kailash-satyarthi-1_1602259133 (1).jpg',\n",
              "  '/content/drive/MyDrive/clean_dataset/kailash satyarthi_cropped/_55e35938-fa3f-11e5-b2cb-21770897bf70 (1).jpg',\n",
              "  '/content/drive/MyDrive/clean_dataset/kailash satyarthi_cropped/Kailash-Satyarthi (12).jpg',\n",
              "  '/content/drive/MyDrive/clean_dataset/kailash satyarthi_cropped/SHRI_Kailash_Satyarthi_1 (1).png',\n",
              "  '/content/drive/MyDrive/clean_dataset/kailash satyarthi_cropped/kailash-satyarthi (7).jpg',\n",
              "  '/content/drive/MyDrive/clean_dataset/kailash satyarthi_cropped/74549343 (1).jpg',\n",
              "  '/content/drive/MyDrive/clean_dataset/kailash satyarthi_cropped/kailash-satyarthi (13).jpg'],\n",
              " 'mother teresa_cropped': ['/content/drive/MyDrive/clean_dataset/mother teresa_cropped/download-17-1.jpg',\n",
              "  '/content/drive/MyDrive/clean_dataset/mother teresa_cropped/download-17-1 - Copy (4).jpg',\n",
              "  '/content/drive/MyDrive/clean_dataset/mother teresa_cropped/download-17-1 - Copy (3).jpg',\n",
              "  '/content/drive/MyDrive/clean_dataset/mother teresa_cropped/download-17-1 - Copy (2).jpg',\n",
              "  '/content/drive/MyDrive/clean_dataset/mother teresa_cropped/download-17-1 - Copy.jpg',\n",
              "  '/content/drive/MyDrive/clean_dataset/mother teresa_cropped/mother-teresa-1458041009 - Copy (2).jpg',\n",
              "  '/content/drive/MyDrive/clean_dataset/mother teresa_cropped/mother-teresa-1458041009.jpg',\n",
              "  '/content/drive/MyDrive/clean_dataset/mother teresa_cropped/mother-teresa-1458041009 - Copy (3).jpg',\n",
              "  '/content/drive/MyDrive/clean_dataset/mother teresa_cropped/mother-teresa-1458041009 - Copy (4).jpg',\n",
              "  '/content/drive/MyDrive/clean_dataset/mother teresa_cropped/mother-teresa-1458041009 - Copy.jpg',\n",
              "  '/content/drive/MyDrive/clean_dataset/mother teresa_cropped/81o7u-cOJcL - Copy (3).jpg',\n",
              "  '/content/drive/MyDrive/clean_dataset/mother teresa_cropped/81o7u-cOJcL - Copy (2).jpg',\n",
              "  '/content/drive/MyDrive/clean_dataset/mother teresa_cropped/81o7u-cOJcL.jpg',\n",
              "  '/content/drive/MyDrive/clean_dataset/mother teresa_cropped/81o7u-cOJcL - Copy.jpg',\n",
              "  '/content/drive/MyDrive/clean_dataset/mother teresa_cropped/81o7u-cOJcL - Copy (4).jpg',\n",
              "  '/content/drive/MyDrive/clean_dataset/mother teresa_cropped/India-Mother-Teresa.JPEG-031 - Copy.jpg',\n",
              "  '/content/drive/MyDrive/clean_dataset/mother teresa_cropped/India-Mother-Teresa.JPEG-031 - Copy (3).jpg',\n",
              "  '/content/drive/MyDrive/clean_dataset/mother teresa_cropped/India-Mother-Teresa.JPEG-031 - Copy (4).jpg',\n",
              "  '/content/drive/MyDrive/clean_dataset/mother teresa_cropped/India-Mother-Teresa.JPEG-031 - Copy (2).jpg',\n",
              "  '/content/drive/MyDrive/clean_dataset/mother teresa_cropped/India-Mother-Teresa.JPEG-031.jpg',\n",
              "  '/content/drive/MyDrive/clean_dataset/mother teresa_cropped/Mother-Teresa-8-784x441.jpg',\n",
              "  '/content/drive/MyDrive/clean_dataset/mother teresa_cropped/most-surprising-facts-about-mother-teresa.jpg',\n",
              "  '/content/drive/MyDrive/clean_dataset/mother teresa_cropped/vector-illustration-mother-teresa_730767-689 - Copy (3).jpg',\n",
              "  '/content/drive/MyDrive/clean_dataset/mother teresa_cropped/vector-illustration-mother-teresa_730767-689 - Copy (2).jpg',\n",
              "  '/content/drive/MyDrive/clean_dataset/mother teresa_cropped/vector-illustration-mother-teresa_730767-689.jpg',\n",
              "  '/content/drive/MyDrive/clean_dataset/mother teresa_cropped/vector-illustration-mother-teresa_730767-689 - Copy (4).jpg',\n",
              "  '/content/drive/MyDrive/clean_dataset/mother teresa_cropped/vector-illustration-mother-teresa_730767-689 - Copy.jpg',\n",
              "  '/content/drive/MyDrive/clean_dataset/mother teresa_cropped/uau520 - Copy (4).jpg',\n",
              "  '/content/drive/MyDrive/clean_dataset/mother teresa_cropped/uau520 - Copy (3).jpg',\n",
              "  '/content/drive/MyDrive/clean_dataset/mother teresa_cropped/uau520.jpg',\n",
              "  '/content/drive/MyDrive/clean_dataset/mother teresa_cropped/uau520 - Copy (2).jpg',\n",
              "  '/content/drive/MyDrive/clean_dataset/mother teresa_cropped/uau520 - Copy.jpg',\n",
              "  '/content/drive/MyDrive/clean_dataset/mother teresa_cropped/mother-teresa-essay - Copy (4).png',\n",
              "  '/content/drive/MyDrive/clean_dataset/mother teresa_cropped/mother-teresa-essay - Copy.png',\n",
              "  '/content/drive/MyDrive/clean_dataset/mother teresa_cropped/mother-teresa-essay - Copy (3).png',\n",
              "  '/content/drive/MyDrive/clean_dataset/mother teresa_cropped/mother-teresa-essay - Copy (2).png',\n",
              "  '/content/drive/MyDrive/clean_dataset/mother teresa_cropped/mother-teresa-essay.png',\n",
              "  '/content/drive/MyDrive/clean_dataset/mother teresa_cropped/MotherTeresa-SketchPainting_9557245d-521e-4741-aa2d-d07c31dbccb1.jpg',\n",
              "  '/content/drive/MyDrive/clean_dataset/mother teresa_cropped/mother-teresa-quotes_1692962773.jpg',\n",
              "  '/content/drive/MyDrive/clean_dataset/mother teresa_cropped/2560px-MOTHER_TERESA_-_OIL_PAINTING_BY_RAJASEKHARAN.jpg',\n",
              "  '/content/drive/MyDrive/clean_dataset/mother teresa_cropped/2560px-MOTHER_TERESA_-_OIL_PAINTING_BY_RAJASEKHARAN - Copy (4).jpg',\n",
              "  '/content/drive/MyDrive/clean_dataset/mother teresa_cropped/2560px-MOTHER_TERESA_-_OIL_PAINTING_BY_RAJASEKHARAN - Copy (2).jpg',\n",
              "  '/content/drive/MyDrive/clean_dataset/mother teresa_cropped/2560px-MOTHER_TERESA_-_OIL_PAINTING_BY_RAJASEKHARAN - Copy.jpg',\n",
              "  '/content/drive/MyDrive/clean_dataset/mother teresa_cropped/2560px-MOTHER_TERESA_-_OIL_PAINTING_BY_RAJASEKHARAN - Copy (3).jpg',\n",
              "  '/content/drive/MyDrive/clean_dataset/mother teresa_cropped/mother-teresa-2.jpg'],\n",
              " 'rabindranath tagore_cropped': ['/content/drive/MyDrive/clean_dataset/rabindranath tagore_cropped/Add-a-heading-22.jpg',\n",
              "  '/content/drive/MyDrive/clean_dataset/rabindranath tagore_cropped/rabindranath-tagore-believed-that-english-readers-would-not-enjoy-his-short-stories-as-his-style-of-writing-was-different-from-the-english-writers-of-his-time-.jpg',\n",
              "  '/content/drive/MyDrive/clean_dataset/rabindranath tagore_cropped/Rabindranath-Tagore (1).jpg',\n",
              "  '/content/drive/MyDrive/clean_dataset/rabindranath tagore_cropped/Rabindranath-Tagore (2) - Copy.jpg',\n",
              "  '/content/drive/MyDrive/clean_dataset/rabindranath tagore_cropped/Rabindranath-Tagore (1) - Copy.jpg',\n",
              "  '/content/drive/MyDrive/clean_dataset/rabindranath tagore_cropped/Rabindranath-Tagore (4) - Copy.jpg',\n",
              "  '/content/drive/MyDrive/clean_dataset/rabindranath tagore_cropped/Rabindranath-Tagore (3) - Copy.jpg',\n",
              "  '/content/drive/MyDrive/clean_dataset/rabindranath tagore_cropped/kobiguru-rabindranath-tagore-a-well-illustration_csp92094226 - Copy (2).jpg',\n",
              "  '/content/drive/MyDrive/clean_dataset/rabindranath tagore_cropped/IMG-20211029-WA0006.jpg',\n",
              "  '/content/drive/MyDrive/clean_dataset/rabindranath tagore_cropped/kobiguru-rabindranath-tagore-a-well-illustration_csp92094226 - Copy (3).jpg',\n",
              "  '/content/drive/MyDrive/clean_dataset/rabindranath tagore_cropped/kobiguru-rabindranath-tagore-a-well-illustration_csp92094226 - Copy (4).jpg',\n",
              "  '/content/drive/MyDrive/clean_dataset/rabindranath tagore_cropped/kobiguru-rabindranath-tagore-a-well-illustration_csp92094226.jpg',\n",
              "  '/content/drive/MyDrive/clean_dataset/rabindranath tagore_cropped/kobiguru-rabindranath-tagore-a-well-illustration_csp92094226 - Copy.jpg',\n",
              "  '/content/drive/MyDrive/clean_dataset/rabindranath tagore_cropped/Portrait_Of_Nobel_Laureate_Rabindranath_Tagore_a2bb9634-e26b-489f-a637-6ba6aa2cbeed - Copy (2).jpg',\n",
              "  '/content/drive/MyDrive/clean_dataset/rabindranath tagore_cropped/Portrait_Of_Nobel_Laureate_Rabindranath_Tagore_a2bb9634-e26b-489f-a637-6ba6aa2cbeed - Copy.jpg',\n",
              "  '/content/drive/MyDrive/clean_dataset/rabindranath tagore_cropped/Portrait_Of_Nobel_Laureate_Rabindranath_Tagore_a2bb9634-e26b-489f-a637-6ba6aa2cbeed - Copy (4).jpg',\n",
              "  '/content/drive/MyDrive/clean_dataset/rabindranath tagore_cropped/Portrait_Of_Nobel_Laureate_Rabindranath_Tagore_a2bb9634-e26b-489f-a637-6ba6aa2cbeed.jpg',\n",
              "  '/content/drive/MyDrive/clean_dataset/rabindranath tagore_cropped/Portrait_Of_Nobel_Laureate_Rabindranath_Tagore_a2bb9634-e26b-489f-a637-6ba6aa2cbeed - Copy (3).jpg',\n",
              "  '/content/drive/MyDrive/clean_dataset/rabindranath tagore_cropped/Rabindranath-Tagore-the-Painter.jpg',\n",
              "  '/content/drive/MyDrive/clean_dataset/rabindranath tagore_cropped/archives-tagore-sixteen_nine - Copy (2).jpg',\n",
              "  '/content/drive/MyDrive/clean_dataset/rabindranath tagore_cropped/archives-tagore-sixteen_nine - Copy (3).jpg',\n",
              "  '/content/drive/MyDrive/clean_dataset/rabindranath tagore_cropped/archives-tagore-sixteen_nine - Copy.jpg',\n",
              "  '/content/drive/MyDrive/clean_dataset/rabindranath tagore_cropped/archives-tagore-sixteen_nine.jpg',\n",
              "  '/content/drive/MyDrive/clean_dataset/rabindranath tagore_cropped/archives-tagore-sixteen_nine - Copy (4).jpg',\n",
              "  '/content/drive/MyDrive/clean_dataset/rabindranath tagore_cropped/4906457-NELBQNBN-7 - Copy.jpg',\n",
              "  '/content/drive/MyDrive/clean_dataset/rabindranath tagore_cropped/4906457-NELBQNBN-7.jpg',\n",
              "  '/content/drive/MyDrive/clean_dataset/rabindranath tagore_cropped/4906457-NELBQNBN-7 - Copy (4).jpg',\n",
              "  '/content/drive/MyDrive/clean_dataset/rabindranath tagore_cropped/4906457-NELBQNBN-7 - Copy (2).jpg',\n",
              "  '/content/drive/MyDrive/clean_dataset/rabindranath tagore_cropped/4906457-NELBQNBN-7 - Copy (3).jpg',\n",
              "  '/content/drive/MyDrive/clean_dataset/rabindranath tagore_cropped/1576057514The_20Grand_20Old_20Indian_20Painter__20Rabindranath_20Tagore - Copy (4).png',\n",
              "  '/content/drive/MyDrive/clean_dataset/rabindranath tagore_cropped/1576057514The_20Grand_20Old_20Indian_20Painter__20Rabindranath_20Tagore - Copy (2).png',\n",
              "  '/content/drive/MyDrive/clean_dataset/rabindranath tagore_cropped/1576057514The_20Grand_20Old_20Indian_20Painter__20Rabindranath_20Tagore - Copy.png',\n",
              "  '/content/drive/MyDrive/clean_dataset/rabindranath tagore_cropped/1576057514The_20Grand_20Old_20Indian_20Painter__20Rabindranath_20Tagore - Copy (3).png',\n",
              "  '/content/drive/MyDrive/clean_dataset/rabindranath tagore_cropped/1576057514The_20Grand_20Old_20Indian_20Painter__20Rabindranath_20Tagore.png',\n",
              "  '/content/drive/MyDrive/clean_dataset/rabindranath tagore_cropped/Rabindranath-Tagore (9) - Copy.jpg',\n",
              "  '/content/drive/MyDrive/clean_dataset/rabindranath tagore_cropped/Rabindranath-Tagore (7) - Copy.jpg',\n",
              "  '/content/drive/MyDrive/clean_dataset/rabindranath tagore_cropped/Rabindranath-Tagore (7).jpg',\n",
              "  '/content/drive/MyDrive/clean_dataset/rabindranath tagore_cropped/Rabindranath-Tagore (10) - Copy.jpg',\n",
              "  '/content/drive/MyDrive/clean_dataset/rabindranath tagore_cropped/Rabindranath-Tagore (8) - Copy.jpg',\n",
              "  '/content/drive/MyDrive/clean_dataset/rabindranath tagore_cropped/image001FQ1Y.jpg',\n",
              "  '/content/drive/MyDrive/clean_dataset/rabindranath tagore_cropped/tagore-untitled-couple-hero-880x550 - Copy.jpg',\n",
              "  '/content/drive/MyDrive/clean_dataset/rabindranath tagore_cropped/tagore-untitled-couple-hero-880x550.jpg',\n",
              "  '/content/drive/MyDrive/clean_dataset/rabindranath tagore_cropped/tagore-untitled-couple-hero-880x550 - Copy (2).jpg',\n",
              "  '/content/drive/MyDrive/clean_dataset/rabindranath tagore_cropped/tagore-untitled-couple-hero-880x550 - Copy (3).jpg',\n",
              "  '/content/drive/MyDrive/clean_dataset/rabindranath tagore_cropped/tagore-untitled-couple-hero-880x550 - Copy (4).jpg',\n",
              "  '/content/drive/MyDrive/clean_dataset/rabindranath tagore_cropped/rabindranath-tagore-original-imagcr2p8gtzggaq.jpg',\n",
              "  '/content/drive/MyDrive/clean_dataset/rabindranath tagore_cropped/xnr0d_512 - Copy (3).jpg',\n",
              "  '/content/drive/MyDrive/clean_dataset/rabindranath tagore_cropped/xnr0d_512 - Copy (4).jpg',\n",
              "  '/content/drive/MyDrive/clean_dataset/rabindranath tagore_cropped/xnr0d_512.jpg',\n",
              "  '/content/drive/MyDrive/clean_dataset/rabindranath tagore_cropped/xnr0d_512 - Copy (2).jpg',\n",
              "  '/content/drive/MyDrive/clean_dataset/rabindranath tagore_cropped/xnr0d_512 - Copy.jpg'],\n",
              " 'subrahmanyan chandrasekhar_cropped': ['/content/drive/MyDrive/clean_dataset/subrahmanyan chandrasekhar_cropped/51ydTwTW9CL.jpg',\n",
              "  '/content/drive/MyDrive/clean_dataset/subrahmanyan chandrasekhar_cropped/astro-physicist-subrahmanyan-chandrasekhar-of-the-university-of-chicago-is-shown-here-in-a.jpg',\n",
              "  '/content/drive/MyDrive/clean_dataset/subrahmanyan chandrasekhar_cropped/subrahmanyan-chandrasekhar.jpg',\n",
              "  '/content/drive/MyDrive/clean_dataset/subrahmanyan chandrasekhar_cropped/899edfe0d61e0d81302c26812776edf7.jpg',\n",
              "  '/content/drive/MyDrive/clean_dataset/subrahmanyan chandrasekhar_cropped/_771ada68-c3cc-11e9-9ed0-dd7a6b36c3ad.jpg',\n",
              "  '/content/drive/MyDrive/clean_dataset/subrahmanyan chandrasekhar_cropped/chandrayoung-72.jpg',\n",
              "  '/content/drive/MyDrive/clean_dataset/subrahmanyan chandrasekhar_cropped/chandrasekhar_subrahmanyan_a15smallNeilsBohrLibrary_0.jpg',\n",
              "  '/content/drive/MyDrive/clean_dataset/subrahmanyan chandrasekhar_cropped/subrahmanyan-chandrasekhar-indian-american-physicist-2RFN57Y.jpg',\n",
              "  '/content/drive/MyDrive/clean_dataset/subrahmanyan chandrasekhar_cropped/Subrahmanyan-Chandrasekhar (1).jpg',\n",
              "  '/content/drive/MyDrive/clean_dataset/subrahmanyan chandrasekhar_cropped/s-chandrashekhar_650x400_51508397450.jpg',\n",
              "  '/content/drive/MyDrive/clean_dataset/subrahmanyan chandrasekhar_cropped/big_305874_1390244783.jpg',\n",
              "  '/content/drive/MyDrive/clean_dataset/subrahmanyan chandrasekhar_cropped/Subrahmanyan-Chandrashekhar.jpg',\n",
              "  '/content/drive/MyDrive/clean_dataset/subrahmanyan chandrasekhar_cropped/Untitled-design-3-3.jpg',\n",
              "  '/content/drive/MyDrive/clean_dataset/subrahmanyan chandrasekhar_cropped/Subrahmanyan-Chandrasekhar (3).jpg',\n",
              "  '/content/drive/MyDrive/clean_dataset/subrahmanyan chandrasekhar_cropped/subrahmanyan-chandrasekhar-3.jpg',\n",
              "  '/content/drive/MyDrive/clean_dataset/subrahmanyan chandrasekhar_cropped/Subrahmanyan-Chandrasekhar-Information-in-Marathi-.jpg',\n",
              "  '/content/drive/MyDrive/clean_dataset/subrahmanyan chandrasekhar_cropped/iplmemes.com-2023-03-27T203251.161.jpg',\n",
              "  '/content/drive/MyDrive/clean_dataset/subrahmanyan chandrasekhar_cropped/ChandrasekharSubrahmanyan-Mountain500x250px.jpg',\n",
              "  '/content/drive/MyDrive/clean_dataset/subrahmanyan chandrasekhar_cropped/5756104434_1957242aeb_n.jpg',\n",
              "  '/content/drive/MyDrive/clean_dataset/subrahmanyan chandrasekhar_cropped/Subrahmanyan-Chandrasekhar-0001-1200-900-Wikimedia-commonos-166612043316x9.jpg',\n",
              "  '/content/drive/MyDrive/clean_dataset/subrahmanyan chandrasekhar_cropped/subrahmanyan-chandrasekhar-4.jpg',\n",
              "  '/content/drive/MyDrive/clean_dataset/subrahmanyan chandrasekhar_cropped/S-Chandrasekhar-the-man-behind-the-stars-1.jpg',\n",
              "  '/content/drive/MyDrive/clean_dataset/subrahmanyan chandrasekhar_cropped/Subrahmanyan-Chandrasekhar-left-and-Lev-Landau-right-who-wrote-seminal-papers-on-the.png',\n",
              "  '/content/drive/MyDrive/clean_dataset/subrahmanyan chandrasekhar_cropped/sddefault.jpg',\n",
              "  '/content/drive/MyDrive/clean_dataset/subrahmanyan chandrasekhar_cropped/chandrasekhar-102__v-gseapremiumxl.jpg',\n",
              "  '/content/drive/MyDrive/clean_dataset/subrahmanyan chandrasekhar_cropped/Subrahmanyan_Chandrasekhar_1910-1995_pillars.jpg',\n",
              "  '/content/drive/MyDrive/clean_dataset/subrahmanyan chandrasekhar_cropped/edu_ids_.jpg',\n",
              "  '/content/drive/MyDrive/clean_dataset/subrahmanyan chandrasekhar_cropped/Subrahmanyan-Chandrasekhar-inspiring-personality.png',\n",
              "  '/content/drive/MyDrive/clean_dataset/subrahmanyan chandrasekhar_cropped/Untitled-design-696x392.png',\n",
              "  '/content/drive/MyDrive/clean_dataset/subrahmanyan chandrasekhar_cropped/Subrahmanyan-Chandrasekhar-1983.jpg',\n",
              "  '/content/drive/MyDrive/clean_dataset/subrahmanyan chandrasekhar_cropped/subramnaya_chandrashekhar.jpg',\n",
              "  '/content/drive/MyDrive/clean_dataset/subrahmanyan chandrasekhar_cropped/quote-science-is-a-perception-of-the-world-around-us-science-is-a-place-where-what-you-find-subrahmanyan-chandrasekhar-72-18-11.jpg',\n",
              "  '/content/drive/MyDrive/clean_dataset/subrahmanyan chandrasekhar_cropped/18Summer_Allen_Love-notes.jpg',\n",
              "  '/content/drive/MyDrive/clean_dataset/subrahmanyan chandrasekhar_cropped/maxresdefault (1).jpg',\n",
              "  '/content/drive/MyDrive/clean_dataset/subrahmanyan chandrasekhar_cropped/6107aae7d58b5ae5fec25b57ef753204.jpg',\n",
              "  '/content/drive/MyDrive/clean_dataset/subrahmanyan chandrasekhar_cropped/25tt18.jpg',\n",
              "  '/content/drive/MyDrive/clean_dataset/subrahmanyan chandrasekhar_cropped/e97448608a52439bbe3f94412531128c_18.jpg',\n",
              "  '/content/drive/MyDrive/clean_dataset/subrahmanyan chandrasekhar_cropped/maxresdefault (3).jpg',\n",
              "  '/content/drive/MyDrive/clean_dataset/subrahmanyan chandrasekhar_cropped/360_360_6071f945bef36.jpg',\n",
              "  '/content/drive/MyDrive/clean_dataset/subrahmanyan chandrasekhar_cropped/subrahmanyan-chandrasekhar1.jpg',\n",
              "  '/content/drive/MyDrive/clean_dataset/subrahmanyan chandrasekhar_cropped/s-chandrasekhar.jpg',\n",
              "  '/content/drive/MyDrive/clean_dataset/subrahmanyan chandrasekhar_cropped/35239___CHANDRASEKHAR,-SUBRAHMANYAN-1988_0.jpg',\n",
              "  '/content/drive/MyDrive/clean_dataset/subrahmanyan chandrasekhar_cropped/E1350u2X0Ac16_A.jpg',\n",
              "  '/content/drive/MyDrive/clean_dataset/subrahmanyan chandrasekhar_cropped/Chandra18-Poster_0.png',\n",
              "  '/content/drive/MyDrive/clean_dataset/subrahmanyan chandrasekhar_cropped/standard_compressed_chandrasekhar_subrahman.jpg'],\n",
              " 'venkatraman ramakrishnan_cropped': ['/content/drive/MyDrive/clean_dataset/venkatraman ramakrishnan_cropped/ramakrishnan-15152-portrait-medium.jpg',\n",
              "  '/content/drive/MyDrive/clean_dataset/venkatraman ramakrishnan_cropped/51g7ICNTe2L.jpg',\n",
              "  '/content/drive/MyDrive/clean_dataset/venkatraman ramakrishnan_cropped/c0167873-800px-wm.jpg',\n",
              "  '/content/drive/MyDrive/clean_dataset/venkatraman ramakrishnan_cropped/maxresdefault.jpg',\n",
              "  '/content/drive/MyDrive/clean_dataset/venkatraman ramakrishnan_cropped/Venkatraman-Ramakrishnan1-1.jpg',\n",
              "  '/content/drive/MyDrive/clean_dataset/venkatraman ramakrishnan_cropped/170px-Nobel_Prize_2009-Press_Conference_KVA-08.jpg',\n",
              "  '/content/drive/MyDrive/clean_dataset/venkatraman ramakrishnan_cropped/CXMrX4yUoAEud0g.jpg',\n",
              "  '/content/drive/MyDrive/clean_dataset/venkatraman ramakrishnan_cropped/maxresdefault (1).jpg',\n",
              "  '/content/drive/MyDrive/clean_dataset/venkatraman ramakrishnan_cropped/nobel-laureate-structural-biologist-and-president-of-the-royal-society-sir-venkatraman.jpg',\n",
              "  '/content/drive/MyDrive/clean_dataset/venkatraman ramakrishnan_cropped/d647272a-003d-4f8b-8e97-545a2753de5a.jpg',\n",
              "  '/content/drive/MyDrive/clean_dataset/venkatraman ramakrishnan_cropped/2009-nobel-laureate-for-chemistry-british-us-venkatraman-ramakrishnan-who-shares-the-prize-with.jpg',\n",
              "  '/content/drive/MyDrive/clean_dataset/venkatraman ramakrishnan_cropped/31nlook1.jpg',\n",
              "  '/content/drive/MyDrive/clean_dataset/venkatraman ramakrishnan_cropped/2712tetecorrected.jpg',\n",
              "  '/content/drive/MyDrive/clean_dataset/venkatraman ramakrishnan_cropped/078f63b7-426f-4bd8-a8c9-bd7011f0ad83.jpg',\n",
              "  '/content/drive/MyDrive/clean_dataset/venkatraman ramakrishnan_cropped/30bakwaas1.jpg',\n",
              "  '/content/drive/MyDrive/clean_dataset/venkatraman ramakrishnan_cropped/venkatraman-ramakrishnan-1.jpg',\n",
              "  '/content/drive/MyDrive/clean_dataset/venkatraman ramakrishnan_cropped/06nlook2.jpg',\n",
              "  '/content/drive/MyDrive/clean_dataset/venkatraman ramakrishnan_cropped/Nobel_Prize_2009-Press_Conference_KVA-07_4b32b63c5c28c858e051e9d1a2a717a1.jpg',\n",
              "  '/content/drive/MyDrive/clean_dataset/venkatraman ramakrishnan_cropped/SP-172-V.-RAMAKRISHNAN.jpg',\n",
              "  '/content/drive/MyDrive/clean_dataset/venkatraman ramakrishnan_cropped/aa-Cover-1c2uat7ae9jnmq2rhurtb5qhk2-20200205030220.jpg',\n",
              "  '/content/drive/MyDrive/clean_dataset/venkatraman ramakrishnan_cropped/07venkat.jpg',\n",
              "  '/content/drive/MyDrive/clean_dataset/venkatraman ramakrishnan_cropped/sddefault.jpg',\n",
              "  '/content/drive/MyDrive/clean_dataset/venkatraman ramakrishnan_cropped/552732-nobel-venkatraman.jpg',\n",
              "  '/content/drive/MyDrive/clean_dataset/venkatraman ramakrishnan_cropped/d30a60bf6a6efd015641fb097c576434.png',\n",
              "  '/content/drive/MyDrive/clean_dataset/venkatraman ramakrishnan_cropped/16EP-SCI_VENKAT.jpg',\n",
              "  '/content/drive/MyDrive/clean_dataset/venkatraman ramakrishnan_cropped/09nlook1.jpg',\n",
              "  '/content/drive/MyDrive/clean_dataset/venkatraman ramakrishnan_cropped/Venkat-Ramakrishnan-Chemistry-Nobel-Prize-Winner-in-2009.jpg',\n",
              "  '/content/drive/MyDrive/clean_dataset/venkatraman ramakrishnan_cropped/2553325-wikipedia.jpg',\n",
              "  '/content/drive/MyDrive/clean_dataset/venkatraman ramakrishnan_cropped/50460663.jpg',\n",
              "  '/content/drive/MyDrive/clean_dataset/venkatraman ramakrishnan_cropped/Venkatraman-Ramakrishnan_16c33b76007_medium.jpg',\n",
              "  '/content/drive/MyDrive/clean_dataset/venkatraman ramakrishnan_cropped/indian-president-prathiba-singh-patil-present-padma-vibhushan-award-to-indian-scientist-at-mrc.jpg',\n",
              "  '/content/drive/MyDrive/clean_dataset/venkatraman ramakrishnan_cropped/P29838-Venki-Ramakrishnan.jpg',\n",
              "  '/content/drive/MyDrive/clean_dataset/venkatraman ramakrishnan_cropped/Sir-Venkatraman-Ramakrishnan.jpg',\n",
              "  '/content/drive/MyDrive/clean_dataset/venkatraman ramakrishnan_cropped/p8e9a877.jpg',\n",
              "  '/content/drive/MyDrive/clean_dataset/venkatraman ramakrishnan_cropped/venkatraman_20130617.jpg',\n",
              "  '/content/drive/MyDrive/clean_dataset/venkatraman ramakrishnan_cropped/venkatraman_ramakrishnan_main_article_1_1376403275_540x540.jpg',\n",
              "  '/content/drive/MyDrive/clean_dataset/venkatraman ramakrishnan_cropped/gabinete__01q3034bnewspro1.jpg',\n",
              "  '/content/drive/MyDrive/clean_dataset/venkatraman ramakrishnan_cropped/Venkatraman-Ramakrishnan.jpg',\n",
              "  '/content/drive/MyDrive/clean_dataset/venkatraman ramakrishnan_cropped/venki-759.jpg',\n",
              "  '/content/drive/MyDrive/clean_dataset/venkatraman ramakrishnan_cropped/850987-68714-ojghakvizu-1505711590.jpg',\n",
              "  '/content/drive/MyDrive/clean_dataset/venkatraman ramakrishnan_cropped/venkatraman-ramakrishnan (1).jpg',\n",
              "  '/content/drive/MyDrive/clean_dataset/venkatraman ramakrishnan_cropped/5c5c1f17-34f0-4a65-9f56-12fb25bbab96.png',\n",
              "  '/content/drive/MyDrive/clean_dataset/venkatraman ramakrishnan_cropped/413486-venkatraman-ramakrishnan.jpg',\n",
              "  '/content/drive/MyDrive/clean_dataset/venkatraman ramakrishnan_cropped/chandigarh-auditoriyum-addressing-university-chandigarh-venkatraman-ramakrishnam_3f2c8f84-b430-11e5-87b3-9157ef61c9c7.jpg',\n",
              "  '/content/drive/MyDrive/clean_dataset/venkatraman ramakrishnan_cropped/Venkatraman-Ramakrishnan (2).jpg',\n",
              "  '/content/drive/MyDrive/clean_dataset/venkatraman ramakrishnan_cropped/london-uk-4th-april-2014-venkatraman-ramakrishnan-winner-of-the-science-dy34jj.jpg',\n",
              "  '/content/drive/MyDrive/clean_dataset/venkatraman ramakrishnan_cropped/venki_ramakrishnan.jpg',\n",
              "  '/content/drive/MyDrive/clean_dataset/venkatraman ramakrishnan_cropped/stock-photo-congo-circa-a-stamp-printed-in-congo-showing-nobel-prize-winner-venkatraman-ramakrishnan-84001744.jpg',\n",
              "  '/content/drive/MyDrive/clean_dataset/venkatraman ramakrishnan_cropped/prof-main.jpg',\n",
              "  '/content/drive/MyDrive/clean_dataset/venkatraman ramakrishnan_cropped/Venki-collage-1024x576.jpg',\n",
              "  '/content/drive/MyDrive/clean_dataset/venkatraman ramakrishnan_cropped/67594768.webp',\n",
              "  '/content/drive/MyDrive/clean_dataset/venkatraman ramakrishnan_cropped/Venki_Ramakrishnan__28cropped_29.jpg',\n",
              "  '/content/drive/MyDrive/clean_dataset/venkatraman ramakrishnan_cropped/Nobel_Laureate_Venkatraman_Ramakrishnan__28Chemistry_29.jpg',\n",
              "  '/content/drive/MyDrive/clean_dataset/venkatraman ramakrishnan_cropped/venkatraman-ramakrishnan-650_650x400_81426776488.jpg',\n",
              "  '/content/drive/MyDrive/clean_dataset/venkatraman ramakrishnan_cropped/ramakrishnan_red.jpg',\n",
              "  '/content/drive/MyDrive/clean_dataset/venkatraman ramakrishnan_cropped/Ramakrishnan-painting-large.jpg',\n",
              "  '/content/drive/MyDrive/clean_dataset/venkatraman ramakrishnan_cropped/Venkatraman-Ramakrishnan (3).jpg',\n",
              "  '/content/drive/MyDrive/clean_dataset/venkatraman ramakrishnan_cropped/LECTIO_9282.jpg',\n",
              "  '/content/drive/MyDrive/clean_dataset/venkatraman ramakrishnan_cropped/sir-story_650_032015105917.jpg',\n",
              "  '/content/drive/MyDrive/clean_dataset/venkatraman ramakrishnan_cropped/Ramakrishnan_V_Mr.jpg',\n",
              "  '/content/drive/MyDrive/clean_dataset/venkatraman ramakrishnan_cropped/35387___cover.jpg',\n",
              "  '/content/drive/MyDrive/clean_dataset/venkatraman ramakrishnan_cropped/vr_h.jpg',\n",
              "  '/content/drive/MyDrive/clean_dataset/venkatraman ramakrishnan_cropped/Rama-krishnan.jpg',\n",
              "  '/content/drive/MyDrive/clean_dataset/venkatraman ramakrishnan_cropped/Noble-laureate-Venkatraman-Ramakrishnan.jpg',\n",
              "  '/content/drive/MyDrive/clean_dataset/venkatraman ramakrishnan_cropped/CME-India-Dr.-Venkatraman-Ramakrishnan.jpg',\n",
              "  '/content/drive/MyDrive/clean_dataset/venkatraman ramakrishnan_cropped/ramakrishnan-optimized-1-e1546959293506.jpg',\n",
              "  '/content/drive/MyDrive/clean_dataset/venkatraman ramakrishnan_cropped/01-venkatraman.jpg',\n",
              "  '/content/drive/MyDrive/clean_dataset/venkatraman ramakrishnan_cropped/Venkatraman-Ramakrishnan-Biography.png',\n",
              "  '/content/drive/MyDrive/clean_dataset/venkatraman ramakrishnan_cropped/wp-ramakrishnan_venki-hr.jpg',\n",
              "  '/content/drive/MyDrive/clean_dataset/venkatraman ramakrishnan_cropped/Venki_Ramakrishnann.JPG_w=400_dpr=2.jpg',\n",
              "  '/content/drive/MyDrive/clean_dataset/venkatraman ramakrishnan_cropped/Venkatraman-Ramakrishnan-in-Hindi.jpg',\n",
              "  '/content/drive/MyDrive/clean_dataset/venkatraman ramakrishnan_cropped/venkatraman-ramakrishnan-3.jpg',\n",
              "  '/content/drive/MyDrive/clean_dataset/venkatraman ramakrishnan_cropped/nobel-prize.jpg']}"
            ]
          },
          "metadata": {},
          "execution_count": 7
        }
      ]
    },
    {
      "cell_type": "markdown",
      "source": [
        "Indexing file folders"
      ],
      "metadata": {
        "id": "M5QJorGupMCO"
      }
    },
    {
      "cell_type": "code",
      "source": [
        "class_dict = {}\n",
        "count = 0\n",
        "for celebrity_name in celebrity_file_names_dict.keys():\n",
        "    class_dict[celebrity_name] = count\n",
        "    count = count + 1\n",
        "class_dict"
      ],
      "metadata": {
        "colab": {
          "base_uri": "https://localhost:8080/"
        },
        "id": "MxFTUXeKOV4a",
        "outputId": "d7d67ee9-f0d3-491d-d625-45fabcba5c96"
      },
      "execution_count": null,
      "outputs": [
        {
          "output_type": "execute_result",
          "data": {
            "text/plain": [
              "{'abhijit banerjee_cropped': 0,\n",
              " 'amartya sen_cropped': 1,\n",
              " 'cv raman_cropped': 2,\n",
              " 'har gobind khorana_cropped': 3,\n",
              " 'kailash satyarthi_cropped': 4,\n",
              " 'mother teresa_cropped': 5,\n",
              " 'rabindranath tagore_cropped': 6,\n",
              " 'subrahmanyan chandrasekhar_cropped': 7,\n",
              " 'venkatraman ramakrishnan_cropped': 8}"
            ]
          },
          "metadata": {},
          "execution_count": 8
        }
      ]
    },
    {
      "cell_type": "markdown",
      "source": [
        "X stores combined image, y stores corresponding image labels"
      ],
      "metadata": {
        "id": "XodpsIeRpcI3"
      }
    },
    {
      "cell_type": "code",
      "source": [
        "X, y = [], []\n",
        "for celebrity_name, training_files in celebrity_file_names_dict.items():\n",
        "    for training_image in training_files:\n",
        "        img = cv2.imread(training_image)\n",
        "        scalled_raw_img = cv2.resize(img, (32, 32))\n",
        "        img_har = w2d(img,'db1',5)\n",
        "        scalled_img_har = cv2.resize(img_har, (32, 32))\n",
        "        combined_img = np.vstack((scalled_raw_img.reshape(32*32*3,1),scalled_img_har.reshape(32*32,1)))\n",
        "        X.append(combined_img)\n",
        "        y.append(class_dict[celebrity_name])"
      ],
      "metadata": {
        "id": "Le2dErYwODG1"
      },
      "execution_count": null,
      "outputs": []
    },
    {
      "cell_type": "code",
      "source": [
        "len(X)"
      ],
      "metadata": {
        "colab": {
          "base_uri": "https://localhost:8080/"
        },
        "id": "i-W4uasRaqdI",
        "outputId": "832c2045-3e4a-459d-f8a5-c8e0a0e55100"
      },
      "execution_count": null,
      "outputs": [
        {
          "output_type": "execute_result",
          "data": {
            "text/plain": [
              "511"
            ]
          },
          "metadata": {},
          "execution_count": 10
        }
      ]
    },
    {
      "cell_type": "markdown",
      "source": [
        "Reshaping X list into 2 dimension"
      ],
      "metadata": {
        "id": "GIAVtMYoqJAn"
      }
    },
    {
      "cell_type": "code",
      "source": [
        "X = np.array(X).reshape(len(X),4096).astype(float)\n",
        "X.shape"
      ],
      "metadata": {
        "colab": {
          "base_uri": "https://localhost:8080/"
        },
        "id": "kg42R9e8v2z5",
        "outputId": "91c1ad42-6a3c-45b6-91c9-6276aba77466"
      },
      "execution_count": null,
      "outputs": [
        {
          "output_type": "execute_result",
          "data": {
            "text/plain": [
              "(511, 4096)"
            ]
          },
          "metadata": {},
          "execution_count": 13
        }
      ]
    },
    {
      "cell_type": "markdown",
      "source": [
        "Importing Support Vector Machine ML Model\n",
        "\n"
      ],
      "metadata": {
        "id": "wlTEhsSUqUMa"
      }
    },
    {
      "cell_type": "code",
      "source": [
        "from sklearn.svm import SVC\n",
        "from sklearn.preprocessing import StandardScaler\n",
        "from sklearn.model_selection import train_test_split\n",
        "from sklearn.pipeline import Pipeline\n",
        "from sklearn.metrics import classification_report"
      ],
      "metadata": {
        "id": "-JoJwL_2asvE"
      },
      "execution_count": null,
      "outputs": []
    },
    {
      "cell_type": "markdown",
      "source": [
        "Splitting X, y into training and testing sets and calculating accuracy"
      ],
      "metadata": {
        "id": "s5uXWsEEqcQM"
      }
    },
    {
      "cell_type": "code",
      "source": [
        "X_train, X_test, y_train, y_test = train_test_split(X, y, random_state=0)\n",
        "\n",
        "pipe = Pipeline([('scaler', StandardScaler()), ('svc', SVC(kernel = 'rbf', C = 3))]) #C value chosen by trial and error, value stops increasing after 3\n",
        "pipe.fit(X_train, y_train)\n",
        "pipe.score(X_test, y_test)"
      ],
      "metadata": {
        "colab": {
          "base_uri": "https://localhost:8080/"
        },
        "id": "8phxJUfwutCk",
        "outputId": "a747ab19-5329-4b31-bf8e-88a75b83593d"
      },
      "execution_count": null,
      "outputs": [
        {
          "output_type": "execute_result",
          "data": {
            "text/plain": [
              "0.84375"
            ]
          },
          "metadata": {},
          "execution_count": 33
        }
      ]
    },
    {
      "cell_type": "code",
      "source": [
        "len(X_test)"
      ],
      "metadata": {
        "colab": {
          "base_uri": "https://localhost:8080/"
        },
        "id": "TbE5Qlkrygwa",
        "outputId": "06c81b71-33c1-4bd7-8690-24dd012b71d8"
      },
      "execution_count": null,
      "outputs": [
        {
          "output_type": "execute_result",
          "data": {
            "text/plain": [
              "128"
            ]
          },
          "metadata": {},
          "execution_count": 23
        }
      ]
    },
    {
      "cell_type": "markdown",
      "source": [
        "Classification Report"
      ],
      "metadata": {
        "id": "LHPJ9JOOq6D-"
      }
    },
    {
      "cell_type": "code",
      "source": [
        "print(classification_report(y_test, pipe.predict(X_test)))"
      ],
      "metadata": {
        "colab": {
          "base_uri": "https://localhost:8080/"
        },
        "id": "YxMoC0oBwBmn",
        "outputId": "a6ce039a-4c09-4afa-deff-58f5f3aa65d6"
      },
      "execution_count": null,
      "outputs": [
        {
          "output_type": "stream",
          "name": "stdout",
          "text": [
            "              precision    recall  f1-score   support\n",
            "\n",
            "           0       0.89      0.80      0.84        10\n",
            "           1       0.82      0.64      0.72        14\n",
            "           2       0.89      0.73      0.80        11\n",
            "           3       0.72      0.87      0.79        15\n",
            "           4       0.95      0.95      0.95        19\n",
            "           5       1.00      0.93      0.97        15\n",
            "           6       1.00      1.00      1.00        10\n",
            "           7       0.87      0.76      0.81        17\n",
            "           8       0.65      0.88      0.75        17\n",
            "\n",
            "    accuracy                           0.84       128\n",
            "   macro avg       0.86      0.84      0.85       128\n",
            "weighted avg       0.86      0.84      0.85       128\n",
            "\n"
          ]
        }
      ]
    },
    {
      "cell_type": "markdown",
      "source": [
        "Importing Logistic Regression, Random Forest Classifier ML Model"
      ],
      "metadata": {
        "id": "5JOX7-swq83x"
      }
    },
    {
      "cell_type": "code",
      "source": [
        "from sklearn import svm\n",
        "from sklearn.ensemble import RandomForestClassifier\n",
        "from sklearn.linear_model import LogisticRegression\n",
        "from sklearn.pipeline import make_pipeline\n",
        "from sklearn.model_selection import GridSearchCV"
      ],
      "metadata": {
        "id": "AQFMMAIjwC-p"
      },
      "execution_count": null,
      "outputs": []
    },
    {
      "cell_type": "markdown",
      "source": [
        "Defining parameters for all 3 models"
      ],
      "metadata": {
        "id": "Zzgn3XBArTEp"
      }
    },
    {
      "cell_type": "code",
      "source": [
        "model_params = {\n",
        "    'svm': {\n",
        "        'model': svm.SVC(gamma='auto',probability=True),\n",
        "        'params' : {\n",
        "            'svc__C': [1,10,100,1000],\n",
        "            'svc__kernel': ['rbf','linear']\n",
        "        }\n",
        "    },\n",
        "    'random_forest': {\n",
        "        'model': RandomForestClassifier(),\n",
        "        'params' : {\n",
        "            'randomforestclassifier__n_estimators': [1,5,10]\n",
        "        }\n",
        "    },\n",
        "    'logistic_regression' : {\n",
        "        'model': LogisticRegression(solver='liblinear',multi_class='auto'),\n",
        "        'params': {\n",
        "            'logisticregression__C': [1,5,10]\n",
        "        }\n",
        "    }\n",
        "}"
      ],
      "metadata": {
        "id": "vTJCbXoywHF-"
      },
      "execution_count": null,
      "outputs": []
    },
    {
      "cell_type": "markdown",
      "source": [
        "Comparing Evaluation Scores for all 3 Supervised Classification ML Model"
      ],
      "metadata": {
        "id": "PLPsVrpmrbVD"
      }
    },
    {
      "cell_type": "code",
      "source": [
        "scores = []\n",
        "best_estimators = {}\n",
        "import pandas as pd\n",
        "for algo, mp in model_params.items():\n",
        "    pipe = make_pipeline(StandardScaler(), mp['model'])\n",
        "    clf =  GridSearchCV(pipe, mp['params'], cv=5, return_train_score=False)\n",
        "    clf.fit(X_train, y_train)\n",
        "    scores.append({\n",
        "        'model': algo,\n",
        "        'best_score': clf.best_score_,\n",
        "        'best_params': clf.best_params_\n",
        "    })\n",
        "    best_estimators[algo] = clf.best_estimator_\n",
        "\n",
        "df = pd.DataFrame(scores,columns=['model','best_score','best_params'])\n",
        "df"
      ],
      "metadata": {
        "colab": {
          "base_uri": "https://localhost:8080/",
          "height": 143
        },
        "id": "FClxIKrZwjlA",
        "outputId": "d373f453-2261-486b-df89-01678a44f909"
      },
      "execution_count": null,
      "outputs": [
        {
          "output_type": "execute_result",
          "data": {
            "text/plain": [
              "                 model  best_score  \\\n",
              "0                  svm    0.835578   \n",
              "1        random_forest    0.683971   \n",
              "2  logistic_regression    0.859023   \n",
              "\n",
              "                                    best_params  \n",
              "0        {'svc__C': 1, 'svc__kernel': 'linear'}  \n",
              "1  {'randomforestclassifier__n_estimators': 10}  \n",
              "2                  {'logisticregression__C': 1}  "
            ],
            "text/html": [
              "\n",
              "  <div id=\"df-9eb8b178-f8b6-41f2-8b08-cd2366ca3aff\" class=\"colab-df-container\">\n",
              "    <div>\n",
              "<style scoped>\n",
              "    .dataframe tbody tr th:only-of-type {\n",
              "        vertical-align: middle;\n",
              "    }\n",
              "\n",
              "    .dataframe tbody tr th {\n",
              "        vertical-align: top;\n",
              "    }\n",
              "\n",
              "    .dataframe thead th {\n",
              "        text-align: right;\n",
              "    }\n",
              "</style>\n",
              "<table border=\"1\" class=\"dataframe\">\n",
              "  <thead>\n",
              "    <tr style=\"text-align: right;\">\n",
              "      <th></th>\n",
              "      <th>model</th>\n",
              "      <th>best_score</th>\n",
              "      <th>best_params</th>\n",
              "    </tr>\n",
              "  </thead>\n",
              "  <tbody>\n",
              "    <tr>\n",
              "      <th>0</th>\n",
              "      <td>svm</td>\n",
              "      <td>0.835578</td>\n",
              "      <td>{'svc__C': 1, 'svc__kernel': 'linear'}</td>\n",
              "    </tr>\n",
              "    <tr>\n",
              "      <th>1</th>\n",
              "      <td>random_forest</td>\n",
              "      <td>0.683971</td>\n",
              "      <td>{'randomforestclassifier__n_estimators': 10}</td>\n",
              "    </tr>\n",
              "    <tr>\n",
              "      <th>2</th>\n",
              "      <td>logistic_regression</td>\n",
              "      <td>0.859023</td>\n",
              "      <td>{'logisticregression__C': 1}</td>\n",
              "    </tr>\n",
              "  </tbody>\n",
              "</table>\n",
              "</div>\n",
              "    <div class=\"colab-df-buttons\">\n",
              "\n",
              "  <div class=\"colab-df-container\">\n",
              "    <button class=\"colab-df-convert\" onclick=\"convertToInteractive('df-9eb8b178-f8b6-41f2-8b08-cd2366ca3aff')\"\n",
              "            title=\"Convert this dataframe to an interactive table.\"\n",
              "            style=\"display:none;\">\n",
              "\n",
              "  <svg xmlns=\"http://www.w3.org/2000/svg\" height=\"24px\" viewBox=\"0 -960 960 960\">\n",
              "    <path d=\"M120-120v-720h720v720H120Zm60-500h600v-160H180v160Zm220 220h160v-160H400v160Zm0 220h160v-160H400v160ZM180-400h160v-160H180v160Zm440 0h160v-160H620v160ZM180-180h160v-160H180v160Zm440 0h160v-160H620v160Z\"/>\n",
              "  </svg>\n",
              "    </button>\n",
              "\n",
              "  <style>\n",
              "    .colab-df-container {\n",
              "      display:flex;\n",
              "      gap: 12px;\n",
              "    }\n",
              "\n",
              "    .colab-df-convert {\n",
              "      background-color: #E8F0FE;\n",
              "      border: none;\n",
              "      border-radius: 50%;\n",
              "      cursor: pointer;\n",
              "      display: none;\n",
              "      fill: #1967D2;\n",
              "      height: 32px;\n",
              "      padding: 0 0 0 0;\n",
              "      width: 32px;\n",
              "    }\n",
              "\n",
              "    .colab-df-convert:hover {\n",
              "      background-color: #E2EBFA;\n",
              "      box-shadow: 0px 1px 2px rgba(60, 64, 67, 0.3), 0px 1px 3px 1px rgba(60, 64, 67, 0.15);\n",
              "      fill: #174EA6;\n",
              "    }\n",
              "\n",
              "    .colab-df-buttons div {\n",
              "      margin-bottom: 4px;\n",
              "    }\n",
              "\n",
              "    [theme=dark] .colab-df-convert {\n",
              "      background-color: #3B4455;\n",
              "      fill: #D2E3FC;\n",
              "    }\n",
              "\n",
              "    [theme=dark] .colab-df-convert:hover {\n",
              "      background-color: #434B5C;\n",
              "      box-shadow: 0px 1px 3px 1px rgba(0, 0, 0, 0.15);\n",
              "      filter: drop-shadow(0px 1px 2px rgba(0, 0, 0, 0.3));\n",
              "      fill: #FFFFFF;\n",
              "    }\n",
              "  </style>\n",
              "\n",
              "    <script>\n",
              "      const buttonEl =\n",
              "        document.querySelector('#df-9eb8b178-f8b6-41f2-8b08-cd2366ca3aff button.colab-df-convert');\n",
              "      buttonEl.style.display =\n",
              "        google.colab.kernel.accessAllowed ? 'block' : 'none';\n",
              "\n",
              "      async function convertToInteractive(key) {\n",
              "        const element = document.querySelector('#df-9eb8b178-f8b6-41f2-8b08-cd2366ca3aff');\n",
              "        const dataTable =\n",
              "          await google.colab.kernel.invokeFunction('convertToInteractive',\n",
              "                                                    [key], {});\n",
              "        if (!dataTable) return;\n",
              "\n",
              "        const docLinkHtml = 'Like what you see? Visit the ' +\n",
              "          '<a target=\"_blank\" href=https://colab.research.google.com/notebooks/data_table.ipynb>data table notebook</a>'\n",
              "          + ' to learn more about interactive tables.';\n",
              "        element.innerHTML = '';\n",
              "        dataTable['output_type'] = 'display_data';\n",
              "        await google.colab.output.renderOutput(dataTable, element);\n",
              "        const docLink = document.createElement('div');\n",
              "        docLink.innerHTML = docLinkHtml;\n",
              "        element.appendChild(docLink);\n",
              "      }\n",
              "    </script>\n",
              "  </div>\n",
              "\n",
              "\n",
              "<div id=\"df-bcabdb14-2021-4547-bfe4-88e3481acdd1\">\n",
              "  <button class=\"colab-df-quickchart\" onclick=\"quickchart('df-bcabdb14-2021-4547-bfe4-88e3481acdd1')\"\n",
              "            title=\"Suggest charts.\"\n",
              "            style=\"display:none;\">\n",
              "\n",
              "<svg xmlns=\"http://www.w3.org/2000/svg\" height=\"24px\"viewBox=\"0 0 24 24\"\n",
              "     width=\"24px\">\n",
              "    <g>\n",
              "        <path d=\"M19 3H5c-1.1 0-2 .9-2 2v14c0 1.1.9 2 2 2h14c1.1 0 2-.9 2-2V5c0-1.1-.9-2-2-2zM9 17H7v-7h2v7zm4 0h-2V7h2v10zm4 0h-2v-4h2v4z\"/>\n",
              "    </g>\n",
              "</svg>\n",
              "  </button>\n",
              "\n",
              "<style>\n",
              "  .colab-df-quickchart {\n",
              "      --bg-color: #E8F0FE;\n",
              "      --fill-color: #1967D2;\n",
              "      --hover-bg-color: #E2EBFA;\n",
              "      --hover-fill-color: #174EA6;\n",
              "      --disabled-fill-color: #AAA;\n",
              "      --disabled-bg-color: #DDD;\n",
              "  }\n",
              "\n",
              "  [theme=dark] .colab-df-quickchart {\n",
              "      --bg-color: #3B4455;\n",
              "      --fill-color: #D2E3FC;\n",
              "      --hover-bg-color: #434B5C;\n",
              "      --hover-fill-color: #FFFFFF;\n",
              "      --disabled-bg-color: #3B4455;\n",
              "      --disabled-fill-color: #666;\n",
              "  }\n",
              "\n",
              "  .colab-df-quickchart {\n",
              "    background-color: var(--bg-color);\n",
              "    border: none;\n",
              "    border-radius: 50%;\n",
              "    cursor: pointer;\n",
              "    display: none;\n",
              "    fill: var(--fill-color);\n",
              "    height: 32px;\n",
              "    padding: 0;\n",
              "    width: 32px;\n",
              "  }\n",
              "\n",
              "  .colab-df-quickchart:hover {\n",
              "    background-color: var(--hover-bg-color);\n",
              "    box-shadow: 0 1px 2px rgba(60, 64, 67, 0.3), 0 1px 3px 1px rgba(60, 64, 67, 0.15);\n",
              "    fill: var(--button-hover-fill-color);\n",
              "  }\n",
              "\n",
              "  .colab-df-quickchart-complete:disabled,\n",
              "  .colab-df-quickchart-complete:disabled:hover {\n",
              "    background-color: var(--disabled-bg-color);\n",
              "    fill: var(--disabled-fill-color);\n",
              "    box-shadow: none;\n",
              "  }\n",
              "\n",
              "  .colab-df-spinner {\n",
              "    border: 2px solid var(--fill-color);\n",
              "    border-color: transparent;\n",
              "    border-bottom-color: var(--fill-color);\n",
              "    animation:\n",
              "      spin 1s steps(1) infinite;\n",
              "  }\n",
              "\n",
              "  @keyframes spin {\n",
              "    0% {\n",
              "      border-color: transparent;\n",
              "      border-bottom-color: var(--fill-color);\n",
              "      border-left-color: var(--fill-color);\n",
              "    }\n",
              "    20% {\n",
              "      border-color: transparent;\n",
              "      border-left-color: var(--fill-color);\n",
              "      border-top-color: var(--fill-color);\n",
              "    }\n",
              "    30% {\n",
              "      border-color: transparent;\n",
              "      border-left-color: var(--fill-color);\n",
              "      border-top-color: var(--fill-color);\n",
              "      border-right-color: var(--fill-color);\n",
              "    }\n",
              "    40% {\n",
              "      border-color: transparent;\n",
              "      border-right-color: var(--fill-color);\n",
              "      border-top-color: var(--fill-color);\n",
              "    }\n",
              "    60% {\n",
              "      border-color: transparent;\n",
              "      border-right-color: var(--fill-color);\n",
              "    }\n",
              "    80% {\n",
              "      border-color: transparent;\n",
              "      border-right-color: var(--fill-color);\n",
              "      border-bottom-color: var(--fill-color);\n",
              "    }\n",
              "    90% {\n",
              "      border-color: transparent;\n",
              "      border-bottom-color: var(--fill-color);\n",
              "    }\n",
              "  }\n",
              "</style>\n",
              "\n",
              "  <script>\n",
              "    async function quickchart(key) {\n",
              "      const quickchartButtonEl =\n",
              "        document.querySelector('#' + key + ' button');\n",
              "      quickchartButtonEl.disabled = true;  // To prevent multiple clicks.\n",
              "      quickchartButtonEl.classList.add('colab-df-spinner');\n",
              "      try {\n",
              "        const charts = await google.colab.kernel.invokeFunction(\n",
              "            'suggestCharts', [key], {});\n",
              "      } catch (error) {\n",
              "        console.error('Error during call to suggestCharts:', error);\n",
              "      }\n",
              "      quickchartButtonEl.classList.remove('colab-df-spinner');\n",
              "      quickchartButtonEl.classList.add('colab-df-quickchart-complete');\n",
              "    }\n",
              "    (() => {\n",
              "      let quickchartButtonEl =\n",
              "        document.querySelector('#df-bcabdb14-2021-4547-bfe4-88e3481acdd1 button');\n",
              "      quickchartButtonEl.style.display =\n",
              "        google.colab.kernel.accessAllowed ? 'block' : 'none';\n",
              "    })();\n",
              "  </script>\n",
              "</div>\n",
              "    </div>\n",
              "  </div>\n"
            ]
          },
          "metadata": {},
          "execution_count": 18
        }
      ]
    },
    {
      "cell_type": "markdown",
      "source": [
        "Results for validation set made by GridSearchCV on training data"
      ],
      "metadata": {
        "id": "jUe6d-lH126d"
      }
    },
    {
      "cell_type": "code",
      "source": [
        "best_estimators"
      ],
      "metadata": {
        "colab": {
          "base_uri": "https://localhost:8080/"
        },
        "id": "wyWR7sfhxo8o",
        "outputId": "f1aa4ab7-96d7-4416-d17b-1ba4c8f8ff3a"
      },
      "execution_count": null,
      "outputs": [
        {
          "output_type": "execute_result",
          "data": {
            "text/plain": [
              "{'svm': Pipeline(steps=[('standardscaler', StandardScaler()),\n",
              "                 ('svc',\n",
              "                  SVC(C=1, gamma='auto', kernel='linear', probability=True))]),\n",
              " 'random_forest': Pipeline(steps=[('standardscaler', StandardScaler()),\n",
              "                 ('randomforestclassifier',\n",
              "                  RandomForestClassifier(n_estimators=10))]),\n",
              " 'logistic_regression': Pipeline(steps=[('standardscaler', StandardScaler()),\n",
              "                 ('logisticregression',\n",
              "                  LogisticRegression(C=1, solver='liblinear'))])}"
            ]
          },
          "metadata": {},
          "execution_count": 19
        }
      ]
    },
    {
      "cell_type": "markdown",
      "source": [
        "Evaluation on test data"
      ],
      "metadata": {
        "id": "OahHhEAi2Alj"
      }
    },
    {
      "cell_type": "code",
      "source": [
        "best_estimators['svm'].score(X_test,y_test)"
      ],
      "metadata": {
        "colab": {
          "base_uri": "https://localhost:8080/"
        },
        "id": "2fet1p7LxpdM",
        "outputId": "80a90c6f-eaf2-494f-fcaa-d32bee495cfd"
      },
      "execution_count": null,
      "outputs": [
        {
          "output_type": "execute_result",
          "data": {
            "text/plain": [
              "0.8671875"
            ]
          },
          "metadata": {},
          "execution_count": 20
        }
      ]
    },
    {
      "cell_type": "code",
      "source": [
        "best_estimators['random_forest'].score(X_test,y_test)"
      ],
      "metadata": {
        "colab": {
          "base_uri": "https://localhost:8080/"
        },
        "id": "q35fht17xxli",
        "outputId": "3e88f95d-9c75-4f99-afbd-2eb0b709a95c"
      },
      "execution_count": null,
      "outputs": [
        {
          "output_type": "execute_result",
          "data": {
            "text/plain": [
              "0.6328125"
            ]
          },
          "metadata": {},
          "execution_count": 21
        }
      ]
    },
    {
      "cell_type": "code",
      "source": [
        "best_estimators['logistic_regression'].score(X_test,y_test)"
      ],
      "metadata": {
        "colab": {
          "base_uri": "https://localhost:8080/"
        },
        "id": "5McfPoj7xz04",
        "outputId": "05c6d889-fdcf-4a2a-aa06-c39ca3bc9ee7"
      },
      "execution_count": null,
      "outputs": [
        {
          "output_type": "execute_result",
          "data": {
            "text/plain": [
              "0.875"
            ]
          },
          "metadata": {},
          "execution_count": 22
        }
      ]
    },
    {
      "cell_type": "code",
      "source": [
        "best_clf = best_estimators['logistic_regression']"
      ],
      "metadata": {
        "id": "o6Dz8s1I2Zfi"
      },
      "execution_count": null,
      "outputs": []
    },
    {
      "cell_type": "code",
      "source": [
        "from sklearn.metrics import confusion_matrix\n",
        "cm = confusion_matrix(y_test, best_clf.predict(X_test))\n",
        "cm"
      ],
      "metadata": {
        "colab": {
          "base_uri": "https://localhost:8080/"
        },
        "id": "28_8JFyr2r0m",
        "outputId": "3fe111a5-3102-40d6-b2b3-90151effee5c"
      },
      "execution_count": null,
      "outputs": [
        {
          "output_type": "execute_result",
          "data": {
            "text/plain": [
              "array([[ 8,  0,  0,  0,  2,  0,  0,  0,  0],\n",
              "       [ 2,  7,  0,  3,  1,  0,  1,  0,  0],\n",
              "       [ 0,  0, 11,  0,  0,  0,  0,  0,  0],\n",
              "       [ 0,  0,  2, 12,  0,  0,  0,  0,  1],\n",
              "       [ 0,  0,  0,  0, 19,  0,  0,  0,  0],\n",
              "       [ 0,  0,  0,  0,  0, 15,  0,  0,  0],\n",
              "       [ 0,  0,  0,  0,  0,  0, 10,  0,  0],\n",
              "       [ 0,  0,  1,  0,  0,  0,  0, 15,  1],\n",
              "       [ 1,  1,  0,  0,  0,  0,  0,  0, 15]])"
            ]
          },
          "metadata": {},
          "execution_count": 35
        }
      ]
    },
    {
      "cell_type": "markdown",
      "source": [
        "Confusion Matrix Visualization for Logistic Regression"
      ],
      "metadata": {
        "id": "0An_bwk4s2vf"
      }
    },
    {
      "cell_type": "code",
      "source": [
        "import seaborn as sn\n",
        "plt.figure(figsize = (10,7))\n",
        "sn.heatmap(cm, annot=True)\n",
        "plt.xlabel('Predicted')\n",
        "plt.ylabel('Truth')\n",
        "plt.show()"
      ],
      "metadata": {
        "colab": {
          "base_uri": "https://localhost:8080/",
          "height": 619
        },
        "id": "MKe2Pydk2tpF",
        "outputId": "9a716641-763c-4831-c52f-fe4cbf15e8d3"
      },
      "execution_count": null,
      "outputs": [
        {
          "output_type": "display_data",
          "data": {
            "text/plain": [
              "<Figure size 1000x700 with 2 Axes>"
            ],
            "image/png": "[encoded data removed]"
          },
          "metadata": {}
        }
      ]
    },
    {
      "cell_type": "code",
      "source": [
        "class_dict"
      ],
      "metadata": {
        "colab": {
          "base_uri": "https://localhost:8080/"
        },
        "id": "fsI3Pj2l2zCJ",
        "outputId": "2b10d4e8-3193-4232-a127-03b4c4c66741"
      },
      "execution_count": null,
      "outputs": [
        {
          "output_type": "execute_result",
          "data": {
            "text/plain": [
              "{'abhijit banerjee_cropped': 0,\n",
              " 'amartya sen_cropped': 1,\n",
              " 'cv raman_cropped': 2,\n",
              " 'har gobind khorana_cropped': 3,\n",
              " 'kailash satyarthi_cropped': 4,\n",
              " 'mother teresa_cropped': 5,\n",
              " 'rabindranath tagore_cropped': 6,\n",
              " 'subrahmanyan chandrasekhar_cropped': 7,\n",
              " 'venkatraman ramakrishnan_cropped': 8}"
            ]
          },
          "metadata": {},
          "execution_count": 38
        }
      ]
    },
    {
      "cell_type": "markdown",
      "source": [
        "Saving best model in .pkl file"
      ],
      "metadata": {
        "id": "SQUyoAWVtL-Z"
      }
    },
    {
      "cell_type": "code",
      "source": [
        "!pip install joblib\n",
        "import joblib\n",
        "# Save the model as a pickle in a file\n",
        "joblib.dump(best_clf, 'saved_model.pkl')"
      ],
      "metadata": {
        "colab": {
          "base_uri": "https://localhost:8080/"
        },
        "id": "fmAWMWK-28Iu",
        "outputId": "fb2707f9-9ac5-4e2a-8267-20815ad7a2fb"
      },
      "execution_count": null,
      "outputs": [
        {
          "output_type": "stream",
          "name": "stdout",
          "text": [
            "Requirement already satisfied: joblib in /usr/local/lib/python3.10/dist-packages (1.3.2)\n"
          ]
        },
        {
          "output_type": "execute_result",
          "data": {
            "text/plain": [
              "['saved_model.pkl']"
            ]
          },
          "metadata": {},
          "execution_count": 39
        }
      ]
    },
    {
      "cell_type": "markdown",
      "source": [
        "Saving Indexing in json file"
      ],
      "metadata": {
        "id": "4hadLP3KtPrJ"
      }
    },
    {
      "cell_type": "code",
      "source": [
        "import json\n",
        "with open(\"class_dictionary.json\",\"w\") as f:\n",
        "    f.write(json.dumps(class_dict))"
      ],
      "metadata": {
        "id": "7eCyeKCP3FPn"
      },
      "execution_count": null,
      "outputs": []
    }
  ]
}